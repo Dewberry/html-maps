{
 "cells": [
  {
   "cell_type": "code",
   "execution_count": 1,
   "metadata": {
    "papermill": {
     "duration": 0.04095,
     "end_time": "2019-07-12T17:19:37.899946",
     "exception": false,
     "start_time": "2019-07-12T17:19:37.858996",
     "status": "completed"
    },
    "tags": [
     "injected-parameters"
    ]
   },
   "outputs": [],
   "source": [
    "# Parameters\n",
    "points = \"..\\\\sample_data\\\\sample_gages.geojson\"\n",
    "points_info = {\"Site No:\": \"Site_NO\", \"Station:\": \"Station_NM\", \"URL\": \"NWISWeb\"}\n",
    "polys = \"..\\\\sample_data\\\\sample_polygons.geojson\"\n",
    "polys_info = {\"HUC12:\": \"HUC12\", \"Area (Sqmi):\": \"Sqmi\", \"Domain:\": \"Domains\", \"Label:\": \"Label\", \"PM:\": \"PM\"}\n",
    "lines = \"..\\\\sample_data\\\\sample_lines.geojson\"\n",
    "lines_info = {\"REACH ID:\": \"REACH_ID\"}\n",
    "output_file = \"..\\\\sample_data\\\\New York.html\"\n",
    "crs = \"+proj=aea +lat_1=20 +lat_2=60 +lat_0=40 +lon_0=-96 +x_0=0 +y_0=0 +datum=NAD83 +units=m +no_defs\"\n",
    "name = \"New York\"\n"
   ]
  },
  {
   "cell_type": "raw",
   "metadata": {
    "papermill": {
     "duration": 0.011965,
     "end_time": "2019-07-12T17:19:37.937925",
     "exception": false,
     "start_time": "2019-07-12T17:19:37.925960",
     "status": "completed"
    },
    "tags": []
   },
   "source": [
    "# PAPERMILL Parameters\n",
    "parameters ={'points':points,\n",
    "             'points_info':points_info,\n",
    "             'polys':polys,\n",
    "             'polys_info':polys_info,\n",
    "             'lines':lines,\n",
    "             'lines_info':lines_info,\n",
    "             'output_file':output_file,\n",
    "             'crs':crs,\n",
    "             'name':name \n",
    "            }"
   ]
  },
  {
   "cell_type": "markdown",
   "metadata": {
    "papermill": {
     "duration": 0.009994,
     "end_time": "2019-07-12T17:19:37.968905",
     "exception": false,
     "start_time": "2019-07-12T17:19:37.958911",
     "status": "completed"
    },
    "tags": []
   },
   "source": [
    "# Quick Map"
   ]
  },
  {
   "cell_type": "code",
   "execution_count": 2,
   "metadata": {
    "papermill": {
     "duration": 1.791108,
     "end_time": "2019-07-12T17:19:39.769039",
     "exception": false,
     "start_time": "2019-07-12T17:19:37.977931",
     "status": "completed"
    },
    "tags": []
   },
   "outputs": [],
   "source": [
    "import sys;sys.path.append('../html-maps')\n",
    "from mapfun import *\n",
    "from features import *\n",
    "import pathlib as pl"
   ]
  },
  {
   "cell_type": "markdown",
   "metadata": {
    "papermill": {
     "duration": 0.007969,
     "end_time": "2019-07-12T17:19:39.784872",
     "exception": false,
     "start_time": "2019-07-12T17:19:39.776903",
     "status": "completed"
    },
    "tags": []
   },
   "source": [
    "### Prep polygon data"
   ]
  },
  {
   "cell_type": "code",
   "execution_count": 3,
   "metadata": {
    "papermill": {
     "duration": 0.076985,
     "end_time": "2019-07-12T17:19:39.874846",
     "exception": false,
     "start_time": "2019-07-12T17:19:39.797861",
     "status": "completed"
    },
    "tags": []
   },
   "outputs": [],
   "source": [
    "polys_gdf = gpd.read_file(polys)\n",
    "polys_gdf.crs=crs\n",
    "polys = quick_transform(polys_gdf, crs)\n",
    "title = f'<caption style=\"font-size:14pt;text-align:center\"><caption>{name}</caption><TH>'\n",
    "header= ['Company','Dewberry']\n",
    "params = column_styles(2,headers=header,size='60%',col_font='font-size: 10pt')\n",
    "descriptions = table_description(polys, params, polys_info, '<TH style=\"font-size:10pt;text-align:center\">',\n",
    "                                 title,change_header=True)"
   ]
  },
  {
   "cell_type": "markdown",
   "metadata": {
    "papermill": {
     "duration": 0.014993,
     "end_time": "2019-07-12T17:19:39.913798",
     "exception": false,
     "start_time": "2019-07-12T17:19:39.898805",
     "status": "completed"
    },
    "tags": []
   },
   "source": [
    "### Prep polyline data"
   ]
  },
  {
   "cell_type": "code",
   "execution_count": 4,
   "metadata": {
    "papermill": {
     "duration": 0.041977,
     "end_time": "2019-07-12T17:19:39.967765",
     "exception": false,
     "start_time": "2019-07-12T17:19:39.925788",
     "status": "completed"
    },
    "tags": []
   },
   "outputs": [],
   "source": [
    "lines_gdf = gpd.read_file(lines)\n",
    "lines_gdf.crs=crs\n",
    "lines = quick_transform(lines_gdf, crs)\n",
    "header= ['Company','Dewberry']\n",
    "title = ''\n",
    "params = column_styles(2,headers=header,col_font='font-size: 10pt')\n",
    "line_descr = table_description(lines, params,lines_info, '<TH style=\"font-size:10pt;text-align:center\">',\n",
    "                                 title,change_header=True)"
   ]
  },
  {
   "cell_type": "markdown",
   "metadata": {
    "papermill": {
     "duration": 0.009022,
     "end_time": "2019-07-12T17:19:39.986781",
     "exception": false,
     "start_time": "2019-07-12T17:19:39.977759",
     "status": "completed"
    },
    "tags": []
   },
   "source": [
    "### Prep point data"
   ]
  },
  {
   "cell_type": "code",
   "execution_count": 5,
   "metadata": {
    "papermill": {
     "duration": 0.036007,
     "end_time": "2019-07-12T17:19:40.037755",
     "exception": false,
     "start_time": "2019-07-12T17:19:40.001748",
     "status": "completed"
    },
    "tags": []
   },
   "outputs": [],
   "source": [
    "points_gdf = gpd.read_file(points)\n",
    "points_gdf.crs=crs\n",
    "points = quick_transform(points_gdf, crs)\n",
    "header= ['Company','Dewberry']\n",
    "title = ''\n",
    "params = column_styles(2,headers=header,size='55%',col_font='font-size: 10pt')\n",
    "points_descr = table_description(points, params, points_info, '<TH style=\"font-size:10pt;text-align:center\">',\n",
    "                                 title,change_header=True)"
   ]
  },
  {
   "cell_type": "markdown",
   "metadata": {
    "papermill": {
     "duration": 0.010994,
     "end_time": "2019-07-12T17:19:40.068707",
     "exception": false,
     "start_time": "2019-07-12T17:19:40.057713",
     "status": "completed"
    },
    "tags": []
   },
   "source": [
    "### Assign Map Center"
   ]
  },
  {
   "cell_type": "code",
   "execution_count": 6,
   "metadata": {
    "papermill": {
     "duration": 0.043025,
     "end_time": "2019-07-12T17:19:40.118757",
     "exception": false,
     "start_time": "2019-07-12T17:19:40.075732",
     "status": "completed"
    },
    "tags": []
   },
   "outputs": [],
   "source": [
    "xcoord, ycoord = get_centroid(points)\n",
    "m = mapfun(xcoord,ycoord, zoom = 11)"
   ]
  },
  {
   "cell_type": "markdown",
   "metadata": {
    "papermill": {
     "duration": 0.008995,
     "end_time": "2019-07-12T17:19:40.136743",
     "exception": false,
     "start_time": "2019-07-12T17:19:40.127748",
     "status": "completed"
    },
    "tags": []
   },
   "source": [
    "### Add Geodata to Map"
   ]
  },
  {
   "cell_type": "code",
   "execution_count": 7,
   "metadata": {
    "papermill": {
     "duration": 0.09794,
     "end_time": "2019-07-12T17:19:40.243682",
     "exception": false,
     "start_time": "2019-07-12T17:19:40.145742",
     "status": "completed"
    },
    "tags": []
   },
   "outputs": [
    {
     "data": {
      "text/plain": [
       "<mapfun.mapfun at 0x22daac428d0>"
      ]
     },
     "execution_count": 7,
     "metadata": {},
     "output_type": "execute_result"
    }
   ],
   "source": [
    "m.add_polygon(polys, descriptions, polys['Label_1'],add_table=True)\n",
    "m.add_lines(lines, line_descr, lines['REACH_ID'],add_table=True)\n",
    "m.add_point(points, points_descr, points['Gage_ID'],add_table=True)"
   ]
  },
  {
   "cell_type": "markdown",
   "metadata": {
    "papermill": {
     "duration": 0.010993,
     "end_time": "2019-07-12T17:19:40.263669",
     "exception": false,
     "start_time": "2019-07-12T17:19:40.252676",
     "status": "completed"
    },
    "tags": []
   },
   "source": [
    "### Make popup for points"
   ]
  },
  {
   "cell_type": "code",
   "execution_count": 8,
   "metadata": {
    "papermill": {
     "duration": 0.031013,
     "end_time": "2019-07-12T17:19:40.316670",
     "exception": false,
     "start_time": "2019-07-12T17:19:40.285657",
     "status": "completed"
    },
    "tags": []
   },
   "outputs": [
    {
     "data": {
      "text/plain": [
       "<mapfun.mapfun at 0x22daac428d0>"
      ]
     },
     "execution_count": 8,
     "metadata": {},
     "output_type": "execute_result"
    }
   ],
   "source": [
    "m.add_tiles(tile_type='World_Light_Gray_Base',services='/Canvas')\n",
    "m.add_extra()"
   ]
  },
  {
   "cell_type": "markdown",
   "metadata": {
    "papermill": {
     "duration": 0.010994,
     "end_time": "2019-07-12T17:19:40.338658",
     "exception": false,
     "start_time": "2019-07-12T17:19:40.327664",
     "status": "completed"
    },
    "tags": []
   },
   "source": [
    "### Save to html"
   ]
  },
  {
   "cell_type": "code",
   "execution_count": 9,
   "metadata": {
    "papermill": {
     "duration": 0.193889,
     "end_time": "2019-07-12T17:19:40.543541",
     "exception": false,
     "start_time": "2019-07-12T17:19:40.349652",
     "status": "completed"
    },
    "tags": []
   },
   "outputs": [],
   "source": [
    "m.map.save(outfile=output_file)  \n",
    "#IFrame('{}.html'.format(name), width=800, height=650)"
   ]
  },
  {
   "cell_type": "markdown",
   "metadata": {
    "papermill": {
     "duration": 0.024988,
     "end_time": "2019-07-12T17:19:40.581492",
     "exception": false,
     "start_time": "2019-07-12T17:19:40.556504",
     "status": "completed"
    },
    "tags": []
   },
   "source": [
    "# END"
   ]
  }
 ],
 "metadata": {
  "kernelspec": {
   "display_name": "general",
   "language": "python",
   "name": "general"
  },
  "language_info": {
   "codemirror_mode": {
    "name": "ipython",
    "version": 3
   },
   "file_extension": ".py",
   "mimetype": "text/x-python",
   "name": "python",
   "nbconvert_exporter": "python",
   "pygments_lexer": "ipython3",
   "version": "3.6.8"
  },
  "papermill": {
   "duration": 5.565819,
   "end_time": "2019-07-12T17:19:42.117441",
   "environment_variables": {},
   "exception": null,
   "input_path": "QuickMap.ipynb",
   "output_path": "..\\sample_data\\QuickMap_New York.ipynb",
   "parameters": {
    "crs": "+proj=aea +lat_1=20 +lat_2=60 +lat_0=40 +lon_0=-96 +x_0=0 +y_0=0 +datum=NAD83 +units=m +no_defs",
    "lines": "..\\sample_data\\sample_lines.geojson",
    "lines_info": {
     "REACH ID:": "REACH_ID"
    },
    "name": "New York",
    "output_file": "..\\sample_data\\New York.html",
    "points": "..\\sample_data\\sample_gages.geojson",
    "points_info": {
     "Site No:": "Site_NO",
     "Station:": "Station_NM",
     "URL": "NWISWeb"
    },
    "polys": "..\\sample_data\\sample_polygons.geojson",
    "polys_info": {
     "Area (Sqmi):": "Sqmi",
     "Domain:": "Domains",
     "HUC12:": "HUC12",
     "Label:": "Label",
     "PM:": "PM"
    }
   },
   "start_time": "2019-07-12T17:19:36.551622",
   "version": "0.17.1"
  }
 },
 "nbformat": 4,
 "nbformat_minor": 2
}