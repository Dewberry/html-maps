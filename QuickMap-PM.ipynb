{
 "cells": [
  {
   "cell_type": "code",
   "execution_count": 1,
   "metadata": {},
   "outputs": [],
   "source": [
    "import papermill as pm\n",
    "import os\n",
    "import pathlib as pl\n",
    "import geopandas as gpd"
   ]
  },
  {
   "cell_type": "code",
   "execution_count": 2,
   "metadata": {},
   "outputs": [],
   "source": [
    "outputdir = r'T:\\CCSI\\TECH\\FEMA\\2018_SO4_Innovation\\Pluvial study'\n",
    "crs = '+proj=aea +lat_1=20 +lat_2=60 +lat_0=40 +lon_0=-96 +x_0=0 +y_0=0 +datum=NAD83 +units=m +no_defs'\n",
    "\n",
    "name = 'Passaic'\n",
    "output_file = os.path.join(outputdir,'{}.html'.format(name))\n",
    "\n",
    "notebook_in = 'QuickMap.ipynb'\n",
    "noebook_out = os.path.join(outputdir,'QuickMap_{}.ipynb'.format(name))         \n"
   ]
  },
  {
   "cell_type": "code",
   "execution_count": 3,
   "metadata": {},
   "outputs": [],
   "source": [
    "polys = r'T:\\CCSI\\TECH\\FEMA\\2019_PFRA\\DATA\\NJ\\Spatialfiles\\Scope\\html_map\\huc12s.geojson'\n",
    "lines = r'T:\\CCSI\\TECH\\FEMA\\2019_PFRA\\DATA\\NJ\\Spatialfiles\\Scope\\html_map\\rivers.geojson'\n",
    "points = r'T:\\CCSI\\TECH\\FEMA\\2019_PFRA\\DATA\\NJ\\Spatialfiles\\Scope\\html_map\\gages.geojson'"
   ]
  },
  {
   "cell_type": "markdown",
   "metadata": {},
   "source": [
    "### For each shape added to the map, assign columnar data to show in pop-up"
   ]
  },
  {
   "cell_type": "code",
   "execution_count": 4,
   "metadata": {},
   "outputs": [
    {
     "data": {
      "text/plain": [
       "Index(['OBJECTID', 'Gage_ID', 'Agency_CD', 'Site_NO', 'Station_NM',\n",
       "       'Site_TP_CD', 'ReachCode', 'Stream_ID', 'State', 'State_FIPS', 'Region',\n",
       "       'HUC8', 'Lat_NWIS', 'Long_NWIS', 'Lat_1M', 'Long_1M', 'Source',\n",
       "       'Review', 'Measure', 'NWISWeb', 'geometry'],\n",
       "      dtype='object')"
      ]
     },
     "execution_count": 4,
     "metadata": {},
     "output_type": "execute_result"
    }
   ],
   "source": [
    "points_gdf = gpd.read_file(points)\n",
    "points_gdf.columns"
   ]
  },
  {
   "cell_type": "code",
   "execution_count": 5,
   "metadata": {},
   "outputs": [],
   "source": [
    "points_info = {'Gage ID':'Gage_ID', 'Station':'Station_NM', 'URL':'NWISWeb'}"
   ]
  },
  {
   "cell_type": "code",
   "execution_count": 6,
   "metadata": {},
   "outputs": [
    {
     "data": {
      "text/plain": [
       "Index(['OBJECTID', 'HUC12', 'NAME_1', 'PTS', 'Company', 'Sqmi', 'Domains',\n",
       "       'Group_D', 'OBJECTID_1__', 'Label', 'Label_1', 'Pluvial', 'Fluvial',\n",
       "       'PM', 'Shape_Length', 'Shape_Area', 'geometry'],\n",
       "      dtype='object')"
      ]
     },
     "execution_count": 6,
     "metadata": {},
     "output_type": "execute_result"
    }
   ],
   "source": [
    "polys_gdf = gpd.read_file(polys)\n",
    "polys_gdf.columns"
   ]
  },
  {
   "cell_type": "code",
   "execution_count": 7,
   "metadata": {},
   "outputs": [],
   "source": [
    "polys_info = {'HUC12':'HUC12', 'Domain':'Domains', 'Label':'Label', 'PM':'PM'}"
   ]
  },
  {
   "cell_type": "code",
   "execution_count": 8,
   "metadata": {},
   "outputs": [],
   "source": [
    "lines_gdf = gpd.read_file(lines)"
   ]
  },
  {
   "cell_type": "code",
   "execution_count": 9,
   "metadata": {},
   "outputs": [
    {
     "data": {
      "text/plain": [
       "Index(['OBJECTID', 'REACH_ID', 'UP_NODE', 'DN_NODE', 'ROUTE_METH',\n",
       "       'SOURCE_CIT', 'SHAPE_Length', 'geometry'],\n",
       "      dtype='object')"
      ]
     },
     "execution_count": 9,
     "metadata": {},
     "output_type": "execute_result"
    }
   ],
   "source": [
    "lines_gdf.columns"
   ]
  },
  {
   "cell_type": "code",
   "execution_count": 10,
   "metadata": {},
   "outputs": [],
   "source": [
    "lines_info = {'REACH ID':'REACH_ID'}"
   ]
  },
  {
   "cell_type": "code",
   "execution_count": 11,
   "metadata": {},
   "outputs": [
    {
     "name": "stderr",
     "output_type": "stream",
     "text": [
      "Input Notebook:  QuickMap.ipynb\n",
      "Output Notebook: T:\\CCSI\\TECH\\FEMA\\2018_SO4_Innovation\\Pluvial study\\QuickMap_Passaic.ipynb\n",
      "100%|██████████████████████████████████████████████████████████████████████████████████| 19/19 [00:11<00:00,  1.69it/s]\n"
     ]
    }
   ],
   "source": [
    "nboutput = pm.execute_notebook(notebook_in, \n",
    "    noebook_out,\n",
    "    parameters ={'points':points,\n",
    "                 'points_info':points_info,\n",
    "                 'polys':polys,\n",
    "                 'polys_info':polys_info,\n",
    "                 'lines':lines,\n",
    "                 'lines_info':lines_info,\n",
    "                 'output_file':output_file,\n",
    "                 'crs':crs,\n",
    "                 'name':name \n",
    "                }\n",
    ")"
   ]
  },
  {
   "cell_type": "code",
   "execution_count": null,
   "metadata": {},
   "outputs": [],
   "source": []
  },
  {
   "cell_type": "code",
   "execution_count": null,
   "metadata": {},
   "outputs": [],
   "source": []
  }
 ],
 "metadata": {
  "kernelspec": {
   "display_name": "rasters",
   "language": "python",
   "name": "rasters"
  },
  "language_info": {
   "codemirror_mode": {
    "name": "ipython",
    "version": 3
   },
   "file_extension": ".py",
   "mimetype": "text/x-python",
   "name": "python",
   "nbconvert_exporter": "python",
   "pygments_lexer": "ipython3",
   "version": "3.6.7"
  }
 },
 "nbformat": 4,
 "nbformat_minor": 2
}
