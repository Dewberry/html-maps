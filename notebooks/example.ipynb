{
 "cells": [
  {
   "cell_type": "markdown",
   "metadata": {},
   "source": [
    "# Example Notebook\n",
    "\n",
    "### Description   \n",
    "This notebook provides an example of the workflow that can be followed to generating a html map. From initializing to adding data (points, lines, and polygons). The data is provided and is located in the sample_data directory.\n",
    "\n",
    "  "
   ]
  },
  {
   "cell_type": "code",
   "execution_count": 1,
   "metadata": {},
   "outputs": [],
   "source": [
    "import sys;sys.path.append('../html-maps')\n",
    "from mapfun import *\n",
    "from features import *\n",
    "import pathlib as pl\n",
    "from IPython.display import IFrame"
   ]
  },
  {
   "cell_type": "markdown",
   "metadata": {},
   "source": [
    "### Read in data, projections, etc."
   ]
  },
  {
   "cell_type": "code",
   "execution_count": 2,
   "metadata": {},
   "outputs": [],
   "source": [
    "rootdir = pl.Path(r'..\\sample_data')\n",
    "crs = '+proj=aea +lat_1=20 +lat_2=60 +lat_0=40 +lon_0=-96 +x_0=0 +y_0=0 +datum=NAD83 +units=m +no_defs' \n",
    "name = 'New York'\n",
    "\n",
    "gages = gpd.read_file(rootdir / 'sample_gages.geojson')\n",
    "gages = quick_transform(gages, crs)\n",
    "\n",
    "lines = gpd.read_file(rootdir / 'sample_lines.geojson')\n",
    "lines = quick_transform(lines, crs)\n",
    "\n",
    "polygons = gpd.read_file(rootdir / 'sample_polygons.geojson')\n",
    "polygons = quick_transform(polygons, crs)"
   ]
  },
  {
   "cell_type": "markdown",
   "metadata": {},
   "source": [
    "### Assign Map Center"
   ]
  },
  {
   "cell_type": "code",
   "execution_count": 3,
   "metadata": {},
   "outputs": [],
   "source": [
    "xcoord, ycoord = get_centroid(gages)\n",
    "m = mapfun(xcoord,ycoord)"
   ]
  },
  {
   "cell_type": "markdown",
   "metadata": {},
   "source": [
    "### Make popup for polygons"
   ]
  },
  {
   "cell_type": "code",
   "execution_count": 4,
   "metadata": {},
   "outputs": [
    {
     "data": {
      "text/plain": [
       "<mapfun.mapfun at 0x1de5d29bc88>"
      ]
     },
     "execution_count": 4,
     "metadata": {},
     "output_type": "execute_result"
    }
   ],
   "source": [
    "poly_info = {'HUC12':'HUC12', 'Domain':'Domains', 'Label':'Label', 'PM':'PM'}\n",
    "title = f'<caption style=\"font-size:14pt;text-align:center\"><caption>{name}</caption><TH>'\n",
    "header= ['Company','Dewberry']\n",
    "params = column_styles(2,headers=header,size='60%',col_font='font-size: 10pt')\n",
    "descriptions = table_description(polygons, params, poly_info, '<TH style=\"font-size:10pt;text-align:center\">',\n",
    "                                 title,change_header=False)\n",
    "m.add_polygon(polygons, descriptions, polygons['Label_1'],add_table=True)"
   ]
  },
  {
   "cell_type": "markdown",
   "metadata": {},
   "source": [
    "### Make popup for lines"
   ]
  },
  {
   "cell_type": "code",
   "execution_count": 5,
   "metadata": {},
   "outputs": [
    {
     "data": {
      "text/plain": [
       "<mapfun.mapfun at 0x1de5d29bc88>"
      ]
     },
     "execution_count": 5,
     "metadata": {},
     "output_type": "execute_result"
    }
   ],
   "source": [
    "line_info = {'REACH ID':'REACH_ID'}\n",
    "header= ['Company','Dewberry']\n",
    "title = ''\n",
    "params = column_styles(2,headers=header,col_font='font-size: 10pt')\n",
    "line_descr = table_description(lines, params,line_info, '<TH style=\"font-size:10pt;text-align:center\">',\n",
    "                                 title,change_header=True)\n",
    "m.add_lines(lines, line_descr, lines['REACH_ID'],add_table=True)"
   ]
  },
  {
   "cell_type": "markdown",
   "metadata": {},
   "source": [
    "### For each shape added to the map, assign columnar data to show in pop-up"
   ]
  },
  {
   "cell_type": "code",
   "execution_count": 6,
   "metadata": {},
   "outputs": [
    {
     "data": {
      "text/plain": [
       "<mapfun.mapfun at 0x1de5d29bc88>"
      ]
     },
     "execution_count": 6,
     "metadata": {},
     "output_type": "execute_result"
    }
   ],
   "source": [
    "gages_info = {'Gage ID':'Gage_ID', 'Station':'Station_NM', 'URL':'NWISWeb'}\n",
    "header= ['Company','Dewberry']\n",
    "title = ''\n",
    "params = column_styles(2,headers=header,size='55%',col_font='font-size: 10pt')\n",
    "gages_descr = table_description(gages, params, gages_info, '<TH style=\"font-size:10pt;text-align:center\">',\n",
    "                                 title,change_header=True)\n",
    "m.add_point(gages, gages_descr, gages['Gage_ID'],add_table=True)"
   ]
  },
  {
   "cell_type": "markdown",
   "metadata": {},
   "source": [
    "### Add extra features to map"
   ]
  },
  {
   "cell_type": "code",
   "execution_count": 7,
   "metadata": {},
   "outputs": [
    {
     "data": {
      "text/plain": [
       "<mapfun.mapfun at 0x1de5d29bc88>"
      ]
     },
     "execution_count": 7,
     "metadata": {},
     "output_type": "execute_result"
    }
   ],
   "source": [
    "m.add_tiles(tile_type='World_Light_Gray_Base',services='/Canvas')\n",
    "m.add_tiles()\n",
    "m.add_extra()"
   ]
  },
  {
   "cell_type": "markdown",
   "metadata": {},
   "source": [
    "### Save to html"
   ]
  },
  {
   "cell_type": "code",
   "execution_count": 8,
   "metadata": {},
   "outputs": [
    {
     "data": {
      "text/html": [
       "\n",
       "        <iframe\n",
       "            width=\"800\"\n",
       "            height=\"650\"\n",
       "            src=\"map.html\"\n",
       "            frameborder=\"0\"\n",
       "            allowfullscreen\n",
       "        ></iframe>\n",
       "        "
      ],
      "text/plain": [
       "<IPython.lib.display.IFrame at 0x1de5d3049e8>"
      ]
     },
     "execution_count": 8,
     "metadata": {},
     "output_type": "execute_result"
    }
   ],
   "source": [
    "m.map.save(outfile='map.html')  \n",
    "IFrame('map.html', width=800, height=650)"
   ]
  },
  {
   "cell_type": "markdown",
   "metadata": {},
   "source": [
    "# END"
   ]
  }
 ],
 "metadata": {
  "kernelspec": {
   "display_name": "Python 3",
   "language": "python",
   "name": "python3"
  },
  "language_info": {
   "codemirror_mode": {
    "name": "ipython",
    "version": 3
   },
   "file_extension": ".py",
   "mimetype": "text/x-python",
   "name": "python",
   "nbconvert_exporter": "python",
   "pygments_lexer": "ipython3",
   "version": "3.6.5"
  }
 },
 "nbformat": 4,
 "nbformat_minor": 2
}
