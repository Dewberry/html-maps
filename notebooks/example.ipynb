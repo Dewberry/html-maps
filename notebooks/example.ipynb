{
 "cells": [
  {
   "cell_type": "markdown",
   "metadata": {},
   "source": [
    "# Quick Map\n",
    "  "
   ]
  },
  {
   "cell_type": "code",
   "execution_count": 1,
   "metadata": {},
   "outputs": [],
   "source": [
    "import sys;sys.path.append('../html-maps')\n",
    "from mapfun import *\n",
    "from features import *\n",
    "import pathlib as pl\n",
    "import geopandas as gpd\n",
    "from IPython.display import IFrame"
   ]
  },
  {
   "cell_type": "markdown",
   "metadata": {},
   "source": [
    "### Read in data, projections, etc."
   ]
  },
  {
   "cell_type": "code",
   "execution_count": 2,
   "metadata": {},
   "outputs": [],
   "source": [
    "rootdir = pl.Path(r'..\\sample_data')\n",
    "crs = '+proj=aea +lat_1=20 +lat_2=60 +lat_0=40 +lon_0=-96 +x_0=0 +y_0=0 +datum=NAD83 +units=m +no_defs' \n",
    "name = 'New York'\n",
    "\n",
    "gages = gpd.read_file(rootdir / 'sample_gages.geojson')\n",
    "gages = quick_transform(gages, crs)\n",
    "\n",
    "lines = gpd.read_file(rootdir / 'sample_lines.geojson')\n",
    "lines = quick_transform(lines, crs)\n",
    "\n",
    "polygons = gpd.read_file(rootdir / 'sample_polygons.geojson')\n",
    "polygons = quick_transform(polygons, crs)"
   ]
  },
  {
   "cell_type": "markdown",
   "metadata": {},
   "source": [
    "### Assign Map Center"
   ]
  },
  {
   "cell_type": "code",
   "execution_count": 3,
   "metadata": {},
   "outputs": [],
   "source": [
    "xcoord, ycoord = get_centroid(gages)\n",
    "m = interactive_map(ycoord, xcoord)"
   ]
  },
  {
   "cell_type": "markdown",
   "metadata": {},
   "source": [
    "### For each shape added to the map, assign columnar data to show in pop-up"
   ]
  },
  {
   "cell_type": "code",
   "execution_count": 4,
   "metadata": {},
   "outputs": [],
   "source": [
    "gages_info = {'Gage ID':'Gage_ID', 'Station':'Station_NM', 'URL':'NWISWeb'}\n",
    "header= ['Company','Dewberry']\n",
    "title = ''\n",
    "params = column_styles(2,headers=header,size='55%',col_font='font-size: 10pt')\n",
    "gages_descr = table_description(gages, params, gages_info, '<TH style=\"font-size:10pt;text-align:center\">',\n",
    "                                 title,change_header=True)\n",
    "m = add_point_tables(gages, m, gages_descr, gages['Gage_ID'])"
   ]
  },
  {
   "cell_type": "markdown",
   "metadata": {},
   "source": [
    "### Make popup for lines"
   ]
  },
  {
   "cell_type": "code",
   "execution_count": 5,
   "metadata": {},
   "outputs": [],
   "source": [
    "line_info = {'REACH ID':'REACH_ID'}\n",
    "header= ['Company','Dewberry']\n",
    "title = ''\n",
    "params = column_styles(2,headers=header,col_font='font-size: 10pt')\n",
    "line_descr = table_description(lines, params,line_info, '<TH style=\"font-size:10pt;text-align:center\">',\n",
    "                                 title,change_header=True)\n",
    "m = add_multiline(lines, m, line_descr, lines['REACH_ID'])"
   ]
  },
  {
   "cell_type": "markdown",
   "metadata": {},
   "source": [
    "### Make popup for polygons"
   ]
  },
  {
   "cell_type": "code",
   "execution_count": 6,
   "metadata": {},
   "outputs": [
    {
     "data": {
      "text/html": [
       "<div>\n",
       "<style scoped>\n",
       "    .dataframe tbody tr th:only-of-type {\n",
       "        vertical-align: middle;\n",
       "    }\n",
       "\n",
       "    .dataframe tbody tr th {\n",
       "        vertical-align: top;\n",
       "    }\n",
       "\n",
       "    .dataframe thead th {\n",
       "        text-align: right;\n",
       "    }\n",
       "</style>\n",
       "<table border=\"1\" class=\"dataframe\">\n",
       "  <thead>\n",
       "    <tr style=\"text-align: right;\">\n",
       "      <th></th>\n",
       "      <th>OBJECTID</th>\n",
       "      <th>HUC12</th>\n",
       "      <th>NAME_1</th>\n",
       "      <th>PTS</th>\n",
       "      <th>Sqmi</th>\n",
       "      <th>Domains</th>\n",
       "      <th>Group_D</th>\n",
       "      <th>OBJECTID_1__</th>\n",
       "      <th>Label</th>\n",
       "      <th>Label_1</th>\n",
       "      <th>PM</th>\n",
       "      <th>Shape_Length</th>\n",
       "      <th>Shape_Area</th>\n",
       "      <th>geometry</th>\n",
       "    </tr>\n",
       "  </thead>\n",
       "  <tbody>\n",
       "    <tr>\n",
       "      <th>0</th>\n",
       "      <td>5</td>\n",
       "      <td>020301030703</td>\n",
       "      <td>Lower Saddle River</td>\n",
       "      <td>STARRII</td>\n",
       "      <td>5.752770</td>\n",
       "      <td>2</td>\n",
       "      <td>1</td>\n",
       "      <td>5.0</td>\n",
       "      <td>Saddler River2</td>\n",
       "      <td>Saddler River2</td>\n",
       "      <td>John</td>\n",
       "      <td>29378.062107</td>\n",
       "      <td>1.489961e+07</td>\n",
       "      <td>(POLYGON ((-74.10029376904355 40.9516853143802...</td>\n",
       "    </tr>\n",
       "    <tr>\n",
       "      <th>1</th>\n",
       "      <td>6</td>\n",
       "      <td>020301030703</td>\n",
       "      <td>Lower Saddle River</td>\n",
       "      <td>STARRII</td>\n",
       "      <td>12.163356</td>\n",
       "      <td>1</td>\n",
       "      <td>1</td>\n",
       "      <td>6.0</td>\n",
       "      <td>Saddler River1</td>\n",
       "      <td>Saddler River1</td>\n",
       "      <td>John</td>\n",
       "      <td>45155.094771</td>\n",
       "      <td>3.150295e+07</td>\n",
       "      <td>(POLYGON ((-74.07272980569928 40.9682948790398...</td>\n",
       "    </tr>\n",
       "  </tbody>\n",
       "</table>\n",
       "</div>"
      ],
      "text/plain": [
       "   OBJECTID         HUC12              NAME_1      PTS       Sqmi  Domains  \\\n",
       "0         5  020301030703  Lower Saddle River  STARRII   5.752770        2   \n",
       "1         6  020301030703  Lower Saddle River  STARRII  12.163356        1   \n",
       "\n",
       "   Group_D  OBJECTID_1__           Label         Label_1    PM  Shape_Length  \\\n",
       "0        1           5.0  Saddler River2  Saddler River2  John  29378.062107   \n",
       "1        1           6.0  Saddler River1  Saddler River1  John  45155.094771   \n",
       "\n",
       "     Shape_Area                                           geometry  \n",
       "0  1.489961e+07  (POLYGON ((-74.10029376904355 40.9516853143802...  \n",
       "1  3.150295e+07  (POLYGON ((-74.07272980569928 40.9682948790398...  "
      ]
     },
     "execution_count": 6,
     "metadata": {},
     "output_type": "execute_result"
    }
   ],
   "source": [
    "polygons"
   ]
  },
  {
   "cell_type": "code",
   "execution_count": 7,
   "metadata": {},
   "outputs": [],
   "source": [
    "poly_info = {'HUC12':'HUC12', 'Domain':'Domains', 'Label':'Label', 'PM':'PM'}\n",
    "title = f'<caption style=\"font-size:14pt;text-align:center\"><caption>{name}</caption><TH>'\n",
    "header= ['Company','Dewberry']\n",
    "params = column_styles(2,headers=header,size='60%',col_font='font-size: 10pt')\n",
    "descriptions = table_description(polygons, params, poly_info, '<TH style=\"font-size:10pt;text-align:center\">',\n",
    "                                 title,change_header=False)\n",
    "m = add_poly_table(polygons, m,descriptions, polygons['Label_1'])"
   ]
  },
  {
   "cell_type": "markdown",
   "metadata": {},
   "source": [
    "### Add extra features to map"
   ]
  },
  {
   "cell_type": "code",
   "execution_count": 9,
   "metadata": {},
   "outputs": [],
   "source": [
    "m = add_tiles(m,tile_type='World_Light_Gray_Base',services='/Canvas')\n",
    "m = add_extra(m)"
   ]
  },
  {
   "cell_type": "markdown",
   "metadata": {},
   "source": [
    "### Save to html"
   ]
  },
  {
   "cell_type": "code",
   "execution_count": 10,
   "metadata": {},
   "outputs": [
    {
     "data": {
      "text/html": [
       "\n",
       "        <iframe\n",
       "            width=\"800\"\n",
       "            height=\"650\"\n",
       "            src=\"map.html\"\n",
       "            frameborder=\"0\"\n",
       "            allowfullscreen\n",
       "        ></iframe>\n",
       "        "
      ],
      "text/plain": [
       "<IPython.lib.display.IFrame at 0x1a056fefc88>"
      ]
     },
     "execution_count": 10,
     "metadata": {},
     "output_type": "execute_result"
    }
   ],
   "source": [
    "m.save(outfile='map.html')  \n",
    "IFrame('map.html', width=800, height=650)"
   ]
  },
  {
   "cell_type": "markdown",
   "metadata": {},
   "source": [
    "# END"
   ]
  }
 ],
 "metadata": {
  "kernelspec": {
   "display_name": "Python [conda env:geoprocess]",
   "language": "python",
   "name": "conda-env-geoprocess-py"
  },
  "language_info": {
   "codemirror_mode": {
    "name": "ipython",
    "version": 3
   },
   "file_extension": ".py",
   "mimetype": "text/x-python",
   "name": "python",
   "nbconvert_exporter": "python",
   "pygments_lexer": "ipython3",
   "version": "3.6.8"
  }
 },
 "nbformat": 4,
 "nbformat_minor": 2
}
