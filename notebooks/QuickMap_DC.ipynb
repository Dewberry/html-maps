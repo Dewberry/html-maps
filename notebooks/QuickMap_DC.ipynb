{
 "cells": [
  {
   "cell_type": "code",
   "execution_count": 1,
   "metadata": {
    "papermill": {
     "duration": 0.038668,
     "end_time": "2019-04-25T16:03:51.256185",
     "exception": false,
     "start_time": "2019-04-25T16:03:51.217517",
     "status": "completed"
    },
    "tags": [
     "injected-parameters"
    ]
   },
   "outputs": [],
   "source": [
    "# Parameters\n",
    "points = \"Y:\\\\CCSI\\\\TECH\\\\FEMA\\\\2019_PFRA\\\\DATA\\\\DC\\\\Spatialfiles\\\\Scope\\\\html_map\\\\gages.shp\"\n",
    "points_info = {\"Site NO:\": \"Site_NO\", \"Station:\": \"Station_NM\", \"URL\": \"NWISWeb\"}\n",
    "polys = \"Y:\\\\CCSI\\\\TECH\\\\FEMA\\\\2019_PFRA\\\\DATA\\\\DC\\\\Spatialfiles\\\\Scope\\\\html_map\\\\huc12s.shp\"\n",
    "polys_info = {\"HUC12:\": \"HUC12\", \"Area (Sqmi):\": \"Sqmi\", \"Domain:\": \"Domains\", \"Label:\": \"Label\", \"PM:\": \"PM\"}\n",
    "lines = \"Y:\\\\CCSI\\\\TECH\\\\FEMA\\\\2019_PFRA\\\\DATA\\\\DC\\\\Spatialfiles\\\\Scope\\\\html_map\\\\rivers.shp\"\n",
    "lines_info = {\"REACH ID:\": \"REACH_ID\"}\n",
    "output_file = \"C:\\\\Users\\\\tmiesse\\\\Work\\html-maps\\\\notebooks\\\\output\\\\DC.html\"\n",
    "crs = \"+proj=aea +lat_1=20 +lat_2=60 +lat_0=40 +lon_0=-96 +x_0=0 +y_0=0 +datum=NAD83 +units=m +no_defs\"\n",
    "name = \"DC\"\n"
   ]
  },
  {
   "cell_type": "raw",
   "metadata": {
    "papermill": {
     "duration": 0.024865,
     "end_time": "2019-04-25T16:03:51.307056",
     "exception": false,
     "start_time": "2019-04-25T16:03:51.282191",
     "status": "completed"
    },
    "tags": []
   },
   "source": [
    "# PAPERMILL Parameters\n",
    "parameters ={'points':points,\n",
    "             'points_info':points_info,\n",
    "             'polys':polys,\n",
    "             'polys_info':polys_info,\n",
    "             'lines':lines,\n",
    "             'lines_info':lines_info,\n",
    "             'output_file':output_file,\n",
    "             'crs':crs,\n",
    "             'name':name \n",
    "            }"
   ]
  },
  {
   "cell_type": "markdown",
   "metadata": {
    "papermill": {
     "duration": 0.023939,
     "end_time": "2019-04-25T16:03:51.354933",
     "exception": false,
     "start_time": "2019-04-25T16:03:51.330994",
     "status": "completed"
    },
    "tags": []
   },
   "source": [
    "# Quick Map"
   ]
  },
  {
   "cell_type": "code",
   "execution_count": 2,
   "metadata": {
    "papermill": {
     "duration": 3.404274,
     "end_time": "2019-04-25T16:03:54.783149",
     "exception": false,
     "start_time": "2019-04-25T16:03:51.378875",
     "status": "completed"
    },
    "tags": []
   },
   "outputs": [],
   "source": [
    "import sys;sys.path.append('../html-maps')\n",
    "from IPython.display import IFrame\n",
    "from mapfun import *\n",
    "import pathlib as pl\n",
    "import geopandas as gpd\n",
    "from features import *\n",
    "#from importlib import reload "
   ]
  },
  {
   "cell_type": "markdown",
   "metadata": {
    "papermill": {
     "duration": 0.023853,
     "end_time": "2019-04-25T16:03:54.837007",
     "exception": false,
     "start_time": "2019-04-25T16:03:54.813154",
     "status": "completed"
    },
    "tags": []
   },
   "source": [
    "### Prep polygon data"
   ]
  },
  {
   "cell_type": "code",
   "execution_count": 3,
   "metadata": {
    "papermill": {
     "duration": 1.935963,
     "end_time": "2019-04-25T16:03:56.796987",
     "exception": false,
     "start_time": "2019-04-25T16:03:54.861024",
     "status": "completed"
    },
    "tags": []
   },
   "outputs": [],
   "source": [
    "polys_gdf = gpd.read_file(polys)\n",
    "polys_gdf.crs=crs\n",
    "polys = quick_transform(polys_gdf, crs)"
   ]
  },
  {
   "cell_type": "markdown",
   "metadata": {
    "papermill": {
     "duration": 0.024688,
     "end_time": "2019-04-25T16:03:56.847857",
     "exception": false,
     "start_time": "2019-04-25T16:03:56.823169",
     "status": "completed"
    },
    "tags": []
   },
   "source": [
    "### Prep polyline data"
   ]
  },
  {
   "cell_type": "code",
   "execution_count": 4,
   "metadata": {
    "papermill": {
     "duration": 2.712397,
     "end_time": "2019-04-25T16:03:59.585186",
     "exception": false,
     "start_time": "2019-04-25T16:03:56.872789",
     "status": "completed"
    },
    "tags": []
   },
   "outputs": [],
   "source": [
    "lines_gdf = gpd.read_file(lines)\n",
    "lines_gdf.crs=crs\n",
    "lines = quick_transform(lines_gdf, crs)\n",
    "header= ['Company','Dewberry']\n",
    "title = ''\n",
    "params = column_styles(2,headers=header,col_font='font-size: 10pt')\n",
    "line_descr = table_description(lines, params,lines_info, '<TH style=\"font-size:10pt;text-align:center\">',\n",
    "                                 title,change_header=True)"
   ]
  },
  {
   "cell_type": "markdown",
   "metadata": {
    "papermill": {
     "duration": 0.034872,
     "end_time": "2019-04-25T16:03:59.642910",
     "exception": false,
     "start_time": "2019-04-25T16:03:59.608038",
     "status": "completed"
    },
    "tags": []
   },
   "source": [
    "### Prep point data"
   ]
  },
  {
   "cell_type": "code",
   "execution_count": 5,
   "metadata": {
    "papermill": {
     "duration": 3.644534,
     "end_time": "2019-04-25T16:04:03.311456",
     "exception": false,
     "start_time": "2019-04-25T16:03:59.666922",
     "status": "completed"
    },
    "tags": []
   },
   "outputs": [
    {
     "data": {
      "text/html": [
       "<div>\n",
       "<style scoped>\n",
       "    .dataframe tbody tr th:only-of-type {\n",
       "        vertical-align: middle;\n",
       "    }\n",
       "\n",
       "    .dataframe tbody tr th {\n",
       "        vertical-align: top;\n",
       "    }\n",
       "\n",
       "    .dataframe thead th {\n",
       "        text-align: right;\n",
       "    }\n",
       "</style>\n",
       "<table border=\"1\" class=\"dataframe\">\n",
       "  <thead>\n",
       "    <tr style=\"text-align: right;\">\n",
       "      <th></th>\n",
       "      <th>OBJECTID</th>\n",
       "      <th>Gage_ID</th>\n",
       "      <th>Agency_CD</th>\n",
       "      <th>Site_NO</th>\n",
       "      <th>Station_NM</th>\n",
       "      <th>Site_TP_CD</th>\n",
       "      <th>ReachCode</th>\n",
       "      <th>Stream_ID</th>\n",
       "      <th>State</th>\n",
       "      <th>State_FIPS</th>\n",
       "      <th>...</th>\n",
       "      <th>HUC8</th>\n",
       "      <th>Lat_NWIS</th>\n",
       "      <th>Long_NWIS</th>\n",
       "      <th>Lat_1M</th>\n",
       "      <th>Long_1M</th>\n",
       "      <th>Source</th>\n",
       "      <th>Review</th>\n",
       "      <th>Measure</th>\n",
       "      <th>NWISWeb</th>\n",
       "      <th>geometry</th>\n",
       "    </tr>\n",
       "  </thead>\n",
       "  <tbody>\n",
       "    <tr>\n",
       "      <th>0</th>\n",
       "      <td>1</td>\n",
       "      <td>100152</td>\n",
       "      <td>USGS</td>\n",
       "      <td>01651750</td>\n",
       "      <td>ANACOSTIA RIVER AQUATIC GARDENS AT WASHINGTON, DC</td>\n",
       "      <td>ES</td>\n",
       "      <td>02070010000050</td>\n",
       "      <td>10421041</td>\n",
       "      <td>DC</td>\n",
       "      <td>11</td>\n",
       "      <td>...</td>\n",
       "      <td>02070010</td>\n",
       "      <td>38.914500</td>\n",
       "      <td>-76.950500</td>\n",
       "      <td>38.913117</td>\n",
       "      <td>-76.950637</td>\n",
       "      <td>NWISWeb</td>\n",
       "      <td>TXWSC</td>\n",
       "      <td>41.572711</td>\n",
       "      <td>http://waterdata.usgs.gov/nwis/nwisman/?site_n...</td>\n",
       "      <td>POINT (-76.95063730135199 38.9131167946438)</td>\n",
       "    </tr>\n",
       "    <tr>\n",
       "      <th>1</th>\n",
       "      <td>2</td>\n",
       "      <td>101856</td>\n",
       "      <td>USGS</td>\n",
       "      <td>01646000</td>\n",
       "      <td>DIFFICULT RUN NEAR GREAT FALLS, VA</td>\n",
       "      <td>ST</td>\n",
       "      <td>02070008000278</td>\n",
       "      <td>10421000</td>\n",
       "      <td>VA</td>\n",
       "      <td>51</td>\n",
       "      <td>...</td>\n",
       "      <td>02070008</td>\n",
       "      <td>38.975943</td>\n",
       "      <td>-77.245814</td>\n",
       "      <td>38.976223</td>\n",
       "      <td>-77.245691</td>\n",
       "      <td>NHDPlusV1</td>\n",
       "      <td>NHDPlusV1</td>\n",
       "      <td>81.300257</td>\n",
       "      <td>http://waterdata.usgs.gov/nwis/nwisman/?site_n...</td>\n",
       "      <td>POINT (-77.24569123043392 38.97622311944609)</td>\n",
       "    </tr>\n",
       "    <tr>\n",
       "      <th>2</th>\n",
       "      <td>3</td>\n",
       "      <td>102107</td>\n",
       "      <td>USGS</td>\n",
       "      <td>01653500</td>\n",
       "      <td>HENSON CREEK AT OXON HILL, MD</td>\n",
       "      <td>ST</td>\n",
       "      <td>02070010000036</td>\n",
       "      <td>10419418</td>\n",
       "      <td>MD</td>\n",
       "      <td>24</td>\n",
       "      <td>...</td>\n",
       "      <td>02070010</td>\n",
       "      <td>38.787892</td>\n",
       "      <td>-76.978030</td>\n",
       "      <td>38.787640</td>\n",
       "      <td>-76.977958</td>\n",
       "      <td>NHDPlusV1</td>\n",
       "      <td>NHDPlusV1</td>\n",
       "      <td>19.462101</td>\n",
       "      <td>http://waterdata.usgs.gov/nwis/nwisman/?site_n...</td>\n",
       "      <td>POINT (-76.97795839668836 38.78764029714128)</td>\n",
       "    </tr>\n",
       "    <tr>\n",
       "      <th>3</th>\n",
       "      <td>4</td>\n",
       "      <td>102123</td>\n",
       "      <td>USGS</td>\n",
       "      <td>01654000</td>\n",
       "      <td>ACCOTINK CREEK NEAR ANNANDALE, VA</td>\n",
       "      <td>ST</td>\n",
       "      <td>02070010000124</td>\n",
       "      <td>10419878</td>\n",
       "      <td>VA</td>\n",
       "      <td>51</td>\n",
       "      <td>...</td>\n",
       "      <td>02070010</td>\n",
       "      <td>38.812891</td>\n",
       "      <td>-77.228316</td>\n",
       "      <td>38.812860</td>\n",
       "      <td>-77.228246</td>\n",
       "      <td>NHDPlusV1</td>\n",
       "      <td>NHDPlusV1</td>\n",
       "      <td>60.229135</td>\n",
       "      <td>http://waterdata.usgs.gov/nwis/nwisman/?site_n...</td>\n",
       "      <td>POINT (-77.22824623959205 38.81285991977984)</td>\n",
       "    </tr>\n",
       "    <tr>\n",
       "      <th>4</th>\n",
       "      <td>5</td>\n",
       "      <td>102126</td>\n",
       "      <td>USGS</td>\n",
       "      <td>01594500</td>\n",
       "      <td>WESTERN BRANCH NEAR LARGO, MD</td>\n",
       "      <td>ST</td>\n",
       "      <td>02060006000224</td>\n",
       "      <td>10414993</td>\n",
       "      <td>MD</td>\n",
       "      <td>24</td>\n",
       "      <td>...</td>\n",
       "      <td>02060006</td>\n",
       "      <td>38.876224</td>\n",
       "      <td>-76.798026</td>\n",
       "      <td>38.876184</td>\n",
       "      <td>-76.797733</td>\n",
       "      <td>NHDPlusV1</td>\n",
       "      <td>NHDPlusV1</td>\n",
       "      <td>5.909326</td>\n",
       "      <td>http://waterdata.usgs.gov/nwis/nwisman/?site_n...</td>\n",
       "      <td>POINT (-76.79773274130342 38.87618367234602)</td>\n",
       "    </tr>\n",
       "  </tbody>\n",
       "</table>\n",
       "<p>5 rows × 21 columns</p>\n",
       "</div>"
      ],
      "text/plain": [
       "   OBJECTID  Gage_ID Agency_CD   Site_NO  \\\n",
       "0         1   100152      USGS  01651750   \n",
       "1         2   101856      USGS  01646000   \n",
       "2         3   102107      USGS  01653500   \n",
       "3         4   102123      USGS  01654000   \n",
       "4         5   102126      USGS  01594500   \n",
       "\n",
       "                                          Station_NM Site_TP_CD  \\\n",
       "0  ANACOSTIA RIVER AQUATIC GARDENS AT WASHINGTON, DC         ES   \n",
       "1                 DIFFICULT RUN NEAR GREAT FALLS, VA         ST   \n",
       "2                      HENSON CREEK AT OXON HILL, MD         ST   \n",
       "3                  ACCOTINK CREEK NEAR ANNANDALE, VA         ST   \n",
       "4                      WESTERN BRANCH NEAR LARGO, MD         ST   \n",
       "\n",
       "        ReachCode  Stream_ID State State_FIPS  ...      HUC8   Lat_NWIS  \\\n",
       "0  02070010000050   10421041    DC         11  ...  02070010  38.914500   \n",
       "1  02070008000278   10421000    VA         51  ...  02070008  38.975943   \n",
       "2  02070010000036   10419418    MD         24  ...  02070010  38.787892   \n",
       "3  02070010000124   10419878    VA         51  ...  02070010  38.812891   \n",
       "4  02060006000224   10414993    MD         24  ...  02060006  38.876224   \n",
       "\n",
       "   Long_NWIS     Lat_1M    Long_1M     Source     Review    Measure  \\\n",
       "0 -76.950500  38.913117 -76.950637    NWISWeb      TXWSC  41.572711   \n",
       "1 -77.245814  38.976223 -77.245691  NHDPlusV1  NHDPlusV1  81.300257   \n",
       "2 -76.978030  38.787640 -76.977958  NHDPlusV1  NHDPlusV1  19.462101   \n",
       "3 -77.228316  38.812860 -77.228246  NHDPlusV1  NHDPlusV1  60.229135   \n",
       "4 -76.798026  38.876184 -76.797733  NHDPlusV1  NHDPlusV1   5.909326   \n",
       "\n",
       "                                             NWISWeb  \\\n",
       "0  http://waterdata.usgs.gov/nwis/nwisman/?site_n...   \n",
       "1  http://waterdata.usgs.gov/nwis/nwisman/?site_n...   \n",
       "2  http://waterdata.usgs.gov/nwis/nwisman/?site_n...   \n",
       "3  http://waterdata.usgs.gov/nwis/nwisman/?site_n...   \n",
       "4  http://waterdata.usgs.gov/nwis/nwisman/?site_n...   \n",
       "\n",
       "                                       geometry  \n",
       "0   POINT (-76.95063730135199 38.9131167946438)  \n",
       "1  POINT (-77.24569123043392 38.97622311944609)  \n",
       "2  POINT (-76.97795839668836 38.78764029714128)  \n",
       "3  POINT (-77.22824623959205 38.81285991977984)  \n",
       "4  POINT (-76.79773274130342 38.87618367234602)  \n",
       "\n",
       "[5 rows x 21 columns]"
      ]
     },
     "execution_count": 5,
     "metadata": {},
     "output_type": "execute_result"
    }
   ],
   "source": [
    "points_gdf = gpd.read_file(points)\n",
    "points_gdf.crs=crs\n",
    "points = quick_transform(points_gdf, crs)\n",
    "header= ['Company','Dewberry']\n",
    "title = ''\n",
    "params = column_styles(2,headers=header,size='60%',col_font='font-size: 10pt')\n",
    "point_descr = table_description(points, params, points_info, '<TH style=\"font-size:10pt;text-align:center\">',\n",
    "                                 title,change_header=True)\n",
    "points.head()"
   ]
  },
  {
   "cell_type": "markdown",
   "metadata": {
    "papermill": {
     "duration": 0.025932,
     "end_time": "2019-04-25T16:04:03.363324",
     "exception": false,
     "start_time": "2019-04-25T16:04:03.337392",
     "status": "completed"
    },
    "tags": []
   },
   "source": [
    "### Assign Map Center"
   ]
  },
  {
   "cell_type": "code",
   "execution_count": 6,
   "metadata": {
    "papermill": {
     "duration": 0.045855,
     "end_time": "2019-04-25T16:04:03.433156",
     "exception": false,
     "start_time": "2019-04-25T16:04:03.387301",
     "status": "completed"
    },
    "tags": []
   },
   "outputs": [],
   "source": [
    "xcoord, ycoord = get_centroid(points)\n",
    "m = interactive_map(ycoord, xcoord, zoom = 11)"
   ]
  },
  {
   "cell_type": "code",
   "execution_count": 7,
   "metadata": {},
   "outputs": [
    {
     "data": {
      "text/html": [
       "<div>\n",
       "<style scoped>\n",
       "    .dataframe tbody tr th:only-of-type {\n",
       "        vertical-align: middle;\n",
       "    }\n",
       "\n",
       "    .dataframe tbody tr th {\n",
       "        vertical-align: top;\n",
       "    }\n",
       "\n",
       "    .dataframe thead th {\n",
       "        text-align: right;\n",
       "    }\n",
       "</style>\n",
       "<table border=\"1\" class=\"dataframe\">\n",
       "  <thead>\n",
       "    <tr style=\"text-align: right;\">\n",
       "      <th></th>\n",
       "      <th>OBJECTID</th>\n",
       "      <th>REACH_ID</th>\n",
       "      <th>STUDY_ID</th>\n",
       "      <th>CASE_NO</th>\n",
       "      <th>CO_FIPS</th>\n",
       "      <th>CID</th>\n",
       "      <th>WTR_NM</th>\n",
       "      <th>WTR_NM_1</th>\n",
       "      <th>FLD_ZONE</th>\n",
       "      <th>VALIDATION</th>\n",
       "      <th>...</th>\n",
       "      <th>ES1_SRC</th>\n",
       "      <th>ES1_URL</th>\n",
       "      <th>ES2_CMT</th>\n",
       "      <th>ES2_SRC</th>\n",
       "      <th>ES2_URL</th>\n",
       "      <th>ES3_CMT</th>\n",
       "      <th>ES3_SRC</th>\n",
       "      <th>ES3_URL</th>\n",
       "      <th>SHAPE_Leng</th>\n",
       "      <th>geometry</th>\n",
       "    </tr>\n",
       "  </thead>\n",
       "  <tbody>\n",
       "    <tr>\n",
       "      <th>0</th>\n",
       "      <td>2</td>\n",
       "      <td>240330100155</td>\n",
       "      <td>240330100155</td>\n",
       "      <td>None</td>\n",
       "      <td>24033</td>\n",
       "      <td>245208</td>\n",
       "      <td>POTOMAC RIVER</td>\n",
       "      <td>None</td>\n",
       "      <td>AE</td>\n",
       "      <td>VALID</td>\n",
       "      <td>...</td>\n",
       "      <td>None</td>\n",
       "      <td>None</td>\n",
       "      <td>None</td>\n",
       "      <td>None</td>\n",
       "      <td>None</td>\n",
       "      <td>None</td>\n",
       "      <td>None</td>\n",
       "      <td>None</td>\n",
       "      <td>35375.947767</td>\n",
       "      <td>LINESTRING (-77.13083148254832 38.946005940103...</td>\n",
       "    </tr>\n",
       "    <tr>\n",
       "      <th>1</th>\n",
       "      <td>3</td>\n",
       "      <td>240330100039</td>\n",
       "      <td>240330100039</td>\n",
       "      <td>None</td>\n",
       "      <td>24033</td>\n",
       "      <td>245208</td>\n",
       "      <td>NORTHEAST BRANCH ANACOSTIA RIVER</td>\n",
       "      <td>None</td>\n",
       "      <td>AE</td>\n",
       "      <td>VALID</td>\n",
       "      <td>...</td>\n",
       "      <td>None</td>\n",
       "      <td>None</td>\n",
       "      <td>None</td>\n",
       "      <td>None</td>\n",
       "      <td>None</td>\n",
       "      <td>None</td>\n",
       "      <td>None</td>\n",
       "      <td>None</td>\n",
       "      <td>5150.656221</td>\n",
       "      <td>LINESTRING (-76.91748727393181 38.978420627758...</td>\n",
       "    </tr>\n",
       "    <tr>\n",
       "      <th>2</th>\n",
       "      <td>4</td>\n",
       "      <td>240330100382</td>\n",
       "      <td>240330100382</td>\n",
       "      <td>None</td>\n",
       "      <td>24033</td>\n",
       "      <td>245208</td>\n",
       "      <td>ANACOSTIA RIVER</td>\n",
       "      <td>None</td>\n",
       "      <td>AE</td>\n",
       "      <td>VALID</td>\n",
       "      <td>...</td>\n",
       "      <td>None</td>\n",
       "      <td>None</td>\n",
       "      <td>None</td>\n",
       "      <td>None</td>\n",
       "      <td>None</td>\n",
       "      <td>None</td>\n",
       "      <td>None</td>\n",
       "      <td>None</td>\n",
       "      <td>3046.252834</td>\n",
       "      <td>LINESTRING (-76.94185146253366 38.918529059232...</td>\n",
       "    </tr>\n",
       "    <tr>\n",
       "      <th>3</th>\n",
       "      <td>5</td>\n",
       "      <td>110010102861</td>\n",
       "      <td>None</td>\n",
       "      <td>#16-03-0242P</td>\n",
       "      <td>11001</td>\n",
       "      <td>110001</td>\n",
       "      <td>ANACOSTIA RIVER</td>\n",
       "      <td>None</td>\n",
       "      <td>AE</td>\n",
       "      <td>VALID</td>\n",
       "      <td>...</td>\n",
       "      <td>None</td>\n",
       "      <td>None</td>\n",
       "      <td>None</td>\n",
       "      <td>None</td>\n",
       "      <td>None</td>\n",
       "      <td>None</td>\n",
       "      <td>None</td>\n",
       "      <td>None</td>\n",
       "      <td>13553.202025</td>\n",
       "      <td>LINESTRING (-76.94152373148047 38.918272573083...</td>\n",
       "    </tr>\n",
       "    <tr>\n",
       "      <th>4</th>\n",
       "      <td>6</td>\n",
       "      <td>515100100004</td>\n",
       "      <td>515100100004</td>\n",
       "      <td>None</td>\n",
       "      <td>51510</td>\n",
       "      <td>515519</td>\n",
       "      <td>Cameron Run</td>\n",
       "      <td>None</td>\n",
       "      <td>AE</td>\n",
       "      <td>UNVERIFIED</td>\n",
       "      <td>...</td>\n",
       "      <td>None</td>\n",
       "      <td>None</td>\n",
       "      <td>None</td>\n",
       "      <td>None</td>\n",
       "      <td>None</td>\n",
       "      <td>None</td>\n",
       "      <td>None</td>\n",
       "      <td>None</td>\n",
       "      <td>2466.906594</td>\n",
       "      <td>LINESTRING (-77.11079805788945 38.807585771847...</td>\n",
       "    </tr>\n",
       "  </tbody>\n",
       "</table>\n",
       "<p>5 rows × 155 columns</p>\n",
       "</div>"
      ],
      "text/plain": [
       "   OBJECTID      REACH_ID      STUDY_ID       CASE_NO CO_FIPS     CID  \\\n",
       "0         2  240330100155  240330100155          None   24033  245208   \n",
       "1         3  240330100039  240330100039          None   24033  245208   \n",
       "2         4  240330100382  240330100382          None   24033  245208   \n",
       "3         5  110010102861          None  #16-03-0242P   11001  110001   \n",
       "4         6  515100100004  515100100004          None   51510  515519   \n",
       "\n",
       "                             WTR_NM WTR_NM_1 FLD_ZONE  VALIDATION  ...  \\\n",
       "0                     POTOMAC RIVER     None       AE       VALID  ...   \n",
       "1  NORTHEAST BRANCH ANACOSTIA RIVER     None       AE       VALID  ...   \n",
       "2                   ANACOSTIA RIVER     None       AE       VALID  ...   \n",
       "3                   ANACOSTIA RIVER     None       AE       VALID  ...   \n",
       "4                       Cameron Run     None       AE  UNVERIFIED  ...   \n",
       "\n",
       "  ES1_SRC  ES1_URL ES2_CMT ES2_SRC ES2_URL ES3_CMT ES3_SRC ES3_URL  \\\n",
       "0    None     None    None    None    None    None    None    None   \n",
       "1    None     None    None    None    None    None    None    None   \n",
       "2    None     None    None    None    None    None    None    None   \n",
       "3    None     None    None    None    None    None    None    None   \n",
       "4    None     None    None    None    None    None    None    None   \n",
       "\n",
       "     SHAPE_Leng                                           geometry  \n",
       "0  35375.947767  LINESTRING (-77.13083148254832 38.946005940103...  \n",
       "1   5150.656221  LINESTRING (-76.91748727393181 38.978420627758...  \n",
       "2   3046.252834  LINESTRING (-76.94185146253366 38.918529059232...  \n",
       "3  13553.202025  LINESTRING (-76.94152373148047 38.918272573083...  \n",
       "4   2466.906594  LINESTRING (-77.11079805788945 38.807585771847...  \n",
       "\n",
       "[5 rows x 155 columns]"
      ]
     },
     "execution_count": 7,
     "metadata": {},
     "output_type": "execute_result"
    }
   ],
   "source": [
    "lines.head()"
   ]
  },
  {
   "cell_type": "code",
   "execution_count": 8,
   "metadata": {},
   "outputs": [],
   "source": [
    "title = f'<caption style=\"font-size:14pt;text-align:center\"><caption>{name}</caption><TH>'\n",
    "header= ['Company',polys['Company'][0]]\n",
    "params = column_styles(2,headers=header,size='60%',col_font='font-size: 10pt')\n",
    "descriptions = table_description(polys, params, polys_info, '<TH style=\"font-size:10pt;text-align:center\">',\n",
    "                                 title,change_header=False)"
   ]
  },
  {
   "cell_type": "markdown",
   "metadata": {
    "papermill": {
     "duration": 0.024896,
     "end_time": "2019-04-25T16:04:03.483979",
     "exception": false,
     "start_time": "2019-04-25T16:04:03.459083",
     "status": "completed"
    },
    "tags": []
   },
   "source": [
    "### Add Geodata to Map"
   ]
  },
  {
   "cell_type": "code",
   "execution_count": 9,
   "metadata": {
    "papermill": {
     "duration": 0.372178,
     "end_time": "2019-04-25T16:04:03.880128",
     "exception": true,
     "start_time": "2019-04-25T16:04:03.507950",
     "status": "failed"
    },
    "tags": []
   },
   "outputs": [],
   "source": [
    "m = add_poly_table(polys, m,descriptions, polys['Label_1'])\n",
    "m = add_line_tables(lines, m, line_descr, lines['REACH_ID'])\n",
    "m = add_point_tables(points, m, point_descr, points['Gage_ID'])\n"
   ]
  },
  {
   "cell_type": "markdown",
   "metadata": {
    "papermill": {
     "duration": null,
     "end_time": null,
     "exception": null,
     "start_time": null,
     "status": "pending"
    },
    "tags": []
   },
   "source": [
    "### Make popup for points"
   ]
  },
  {
   "cell_type": "code",
   "execution_count": 11,
   "metadata": {
    "papermill": {
     "duration": null,
     "end_time": null,
     "exception": null,
     "start_time": null,
     "status": "pending"
    },
    "tags": []
   },
   "outputs": [],
   "source": [
    "m = add_tiles(m,tile_type='World_Light_Gray_Base',services='/Canvas')\n",
    "m = add_extra(m)"
   ]
  },
  {
   "cell_type": "markdown",
   "metadata": {
    "papermill": {
     "duration": null,
     "end_time": null,
     "exception": null,
     "start_time": null,
     "status": "pending"
    },
    "tags": []
   },
   "source": [
    "### Save to html"
   ]
  },
  {
   "cell_type": "code",
   "execution_count": 12,
   "metadata": {
    "papermill": {
     "duration": null,
     "end_time": null,
     "exception": null,
     "start_time": null,
     "status": "pending"
    },
    "tags": []
   },
   "outputs": [],
   "source": [
    "m.save(outfile=output_file)  \n",
    "#IFrame('{}.html'.format(name), width=800, height=650)"
   ]
  },
  {
   "cell_type": "markdown",
   "metadata": {
    "papermill": {
     "duration": null,
     "end_time": null,
     "exception": null,
     "start_time": null,
     "status": "pending"
    },
    "tags": []
   },
   "source": [
    "# END"
   ]
  }
 ],
 "metadata": {
  "kernelspec": {
   "display_name": "Python [conda env:geoprocess]",
   "language": "python",
   "name": "conda-env-geoprocess-py"
  },
  "language_info": {
   "codemirror_mode": {
    "name": "ipython",
    "version": 3
   },
   "file_extension": ".py",
   "mimetype": "text/x-python",
   "name": "python",
   "nbconvert_exporter": "python",
   "pygments_lexer": "ipython3",
   "version": "3.6.8"
  },
  "papermill": {
   "duration": 15.592464,
   "end_time": "2019-04-25T16:04:04.870723",
   "environment_variables": {},
   "exception": true,
   "input_path": "QuickMap.ipynb",
   "output_path": "C:\\Users\\mmorsy\\Documents\\GitHub\\html-maps\\output\\QuickMap_DC.ipynb",
   "parameters": {
    "crs": "+proj=aea +lat_1=20 +lat_2=60 +lat_0=40 +lon_0=-96 +x_0=0 +y_0=0 +datum=NAD83 +units=m +no_defs",
    "lines": "T:\\CCSI\\TECH\\FEMA\\2019_PFRA\\DATA\\DC\\Spatialfiles\\Scope\\html_map\\rivers.shp",
    "lines_info": {
     "REACH ID:": "REACH_ID"
    },
    "name": "DC",
    "output_file": "C:\\Users\\mmorsy\\Documents\\GitHub\\html-maps\\output\\DC.html",
    "points": "T:\\CCSI\\TECH\\FEMA\\2019_PFRA\\DATA\\DC\\Spatialfiles\\Scope\\html_map\\gages.shp",
    "points_info": {
     "Site NO:": "Site_NO",
     "Station:": "Station_NM",
     "URL": "NWISWeb"
    },
    "polys": "T:\\CCSI\\TECH\\FEMA\\2019_PFRA\\DATA\\DC\\Spatialfiles\\Scope\\html_map\\huc12s.shp",
    "polys_info": {
     "Area (Sqmi):": "Sqmi",
     "Domain:": "Domains",
     "HUC12:": "HUC12",
     "Label:": "Label",
     "PM:": "PM"
    }
   },
   "start_time": "2019-04-25T16:03:49.278259",
   "version": "0.19.1"
  }
 },
 "nbformat": 4,
 "nbformat_minor": 2
}
