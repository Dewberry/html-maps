{
 "cells": [
  {
   "cell_type": "markdown",
   "metadata": {},
   "source": [
    "## QuickMap\n",
    "\n",
    "__Description__: Tool to create a quick visualization map. This map is used to visualize USGS gauges, HUCs, and stream flowlines for specific study domain.\n",
    "\n",
    "__Input__: Three shapefiles for USGS gauges, HUCs, and stream flowlines.\n",
    "\n",
    "__Output__: HTML file for the created map. Jupyter notebook created specifically for the desired study domain to regenerate and/or modify the map if needed. "
   ]
  },
  {
   "cell_type": "markdown",
   "metadata": {},
   "source": [
    "### Load libraries:"
   ]
  },
  {
   "cell_type": "code",
   "execution_count": 1,
   "metadata": {},
   "outputs": [],
   "source": [
    "import sys;sys.path.append('../html-maps')\n",
    "from mapfun import *\n",
    "from features import *\n",
    "import pathlib as pl"
   ]
  },
  {
   "cell_type": "markdown",
   "metadata": {},
   "source": [
    "### Specify the location to save the outputs, idenfiy the shapefiles projection, and assign a name to the desired study domain:"
   ]
  },
  {
   "cell_type": "code",
   "execution_count": 2,
   "metadata": {},
   "outputs": [],
   "source": [
    "outputdir = r'.\\output'\n",
    "crs = '+proj=aea +lat_1=20 +lat_2=60 +lat_0=40 +lon_0=-96 +x_0=0 +y_0=0 +datum=NAD83 +units=m +no_defs'\n",
    "name = 'CA'\n",
    "\n",
    "output_file = os.path.join(outputdir,'{}.html'.format(name))\n",
    "notebook_in = 'QuickMap.ipynb'\n",
    "noebook_out = os.path.join(outputdir,'QuickMap_{}.ipynb'.format(name))     "
   ]
  },
  {
   "cell_type": "markdown",
   "metadata": {},
   "source": [
    "### Specify the location of the input shapefiles:"
   ]
  },
  {
   "cell_type": "code",
   "execution_count": 3,
   "metadata": {},
   "outputs": [],
   "source": [
    "points = r'T:\\CCSI\\TECH\\FEMA\\2019_PFRA\\DATA\\CA\\Spatialfiles\\Scope\\html_map\\gages.shp'\n",
    "polys = r'T:\\CCSI\\TECH\\FEMA\\2019_PFRA\\DATA\\CA\\Spatialfiles\\Scope\\html_map\\huc12s_extension.shp'\n",
    "lines = r'T:\\CCSI\\TECH\\FEMA\\2019_PFRA\\DATA\\CA\\Spatialfiles\\Scope\\html_map\\rivers.shp'"
   ]
  },
  {
   "cell_type": "markdown",
   "metadata": {},
   "source": [
    "### For each shape added to the map, assign columnar data to show in pop-up"
   ]
  },
  {
   "cell_type": "markdown",
   "metadata": {},
   "source": [
    "#### 1) USGS gauges:"
   ]
  },
  {
   "cell_type": "markdown",
   "metadata": {},
   "source": [
    "##### a) Read the shapefile and loop through the available columnar data"
   ]
  },
  {
   "cell_type": "code",
   "execution_count": 4,
   "metadata": {},
   "outputs": [
    {
     "name": "stdout",
     "output_type": "stream",
     "text": [
      "OBJECTID\n",
      "Gage_ID\n",
      "Agency_CD\n",
      "Site_NO\n",
      "Station_NM\n",
      "Site_TP_CD\n",
      "ReachCode\n",
      "Stream_ID\n",
      "State\n",
      "State_FIPS\n",
      "Region\n",
      "HUC8\n",
      "Lat_NWIS\n",
      "Long_NWIS\n",
      "Lat_1M\n",
      "Long_1M\n",
      "Source\n",
      "Review\n",
      "Measure\n",
      "NWISWeb\n",
      "geometry\n"
     ]
    }
   ],
   "source": [
    "points_gdf = gpd.read_file(points)\n",
    "for field in points_gdf.columns:\n",
    "    print(field)"
   ]
  },
  {
   "cell_type": "markdown",
   "metadata": {},
   "source": [
    "##### b) Identify specific columnar data to show in pop-up"
   ]
  },
  {
   "cell_type": "code",
   "execution_count": 5,
   "metadata": {},
   "outputs": [],
   "source": [
    "points_info = {'Site No:':'Site_NO', 'Station:':'Station_NM', 'URL':'NWISWeb'}"
   ]
  },
  {
   "cell_type": "markdown",
   "metadata": {},
   "source": [
    "#### 2) HUCs:"
   ]
  },
  {
   "cell_type": "markdown",
   "metadata": {},
   "source": [
    "##### a) Read the shapefile and loop through the available columnar data"
   ]
  },
  {
   "cell_type": "code",
   "execution_count": 6,
   "metadata": {},
   "outputs": [
    {
     "name": "stdout",
     "output_type": "stream",
     "text": [
      "OBJECTID\n",
      "HUC12\n",
      "NAME_1\n",
      "PTS\n",
      "Company\n",
      "Sqmi\n",
      "Domains\n",
      "Group_D\n",
      "OBJECTID_1\n",
      "Label\n",
      "Label_1\n",
      "Pluvial\n",
      "Fluvial\n",
      "PM\n",
      "Shape_Leng\n",
      "Shape_Area\n",
      "geometry\n"
     ]
    }
   ],
   "source": [
    "polys_gdf = gpd.read_file(polys)\n",
    "for field in polys_gdf.columns:\n",
    "    print(field)"
   ]
  },
  {
   "cell_type": "markdown",
   "metadata": {},
   "source": [
    "##### b) Identify specific columnar data to show in pop-up"
   ]
  },
  {
   "cell_type": "code",
   "execution_count": 7,
   "metadata": {},
   "outputs": [],
   "source": [
    "polys_info = {'HUC12:':'HUC12', 'Area (Sqmi):':'Sqmi', 'Domain:':'Domains', 'Label:':'Label', 'PM:':'PM'}"
   ]
  },
  {
   "cell_type": "markdown",
   "metadata": {},
   "source": [
    "#### 3) Stream flowlines: "
   ]
  },
  {
   "cell_type": "markdown",
   "metadata": {},
   "source": [
    "##### a) Read the shapefile and loop through the available columnar data"
   ]
  },
  {
   "cell_type": "code",
   "execution_count": 8,
   "metadata": {},
   "outputs": [],
   "source": [
    "lines_gdf = gpd.read_file(lines)"
   ]
  },
  {
   "cell_type": "code",
   "execution_count": 9,
   "metadata": {},
   "outputs": [
    {
     "name": "stdout",
     "output_type": "stream",
     "text": [
      "OBJECTID\n",
      "REACH_ID\n",
      "STUDY_ID\n",
      "CASE_NO\n",
      "CO_FIPS\n",
      "CID\n",
      "WTR_NM\n",
      "WTR_NM_1\n",
      "FLD_ZONE\n",
      "VALIDATION\n",
      "STATUS_TYP\n",
      "MILES\n",
      "SOURCE\n",
      "STATUS_DAT\n",
      "FY_FUNDED\n",
      "REASON\n",
      "HUC8_KEY\n",
      "STUDY_TYPE\n",
      "TIER\n",
      "WSEL_AVAIL\n",
      "DPTH_AVAIL\n",
      "BLE\n",
      "BLE_POC\n",
      "BLE_DATE\n",
      "LINE_TYPE\n",
      "FBS_CMPLNT\n",
      "FBS_CHKDT\n",
      "FBS_CTYP\n",
      "DUPLICATE\n",
      "POC_ID\n",
      "DATE_RQST\n",
      "DATE_EFFEC\n",
      "HYDRO_MDL\n",
      "HYDRO_MDL_\n",
      "HYDRA_MDL\n",
      "HYDRA_MDL_\n",
      "C1_GAGE\n",
      "C2_DISCH\n",
      "C3_MODEL\n",
      "C4_FCSTR\n",
      "C5_CHANN\n",
      "C6_HSTR\n",
      "C7_SCOUR\n",
      "S1_REGEQ\n",
      "S2_REPLO\n",
      "S3_IMPAR\n",
      "S4_HSTR\n",
      "S5_CHIMP\n",
      "S6_TOPO\n",
      "S7_VEGLU\n",
      "S8_HWMS\n",
      "S9_REGEQ\n",
      "CE_TOTAL\n",
      "SE_TOTAL\n",
      "A1_TOPO\n",
      "A2_HYDRO\n",
      "A3_IMPAR\n",
      "A4_TECH\n",
      "A5_COMPARE\n",
      "COMMENT\n",
      "BS_CASE_NO\n",
      "BS_ZONE\n",
      "BS_STDYTYP\n",
      "BS_HYDRO_M\n",
      "BS_HYDRO_C\n",
      "BS_HYDRA_M\n",
      "BS_HYDRA_C\n",
      "BS_FY_FUND\n",
      "PRELIM_DAT\n",
      "LFD_DATE\n",
      "EC1_UDEF\n",
      "EC2_UDEF\n",
      "ES1_UDEF\n",
      "ES2_UDEF\n",
      "ES3_UDEF\n",
      "ES4_UDEF\n",
      "E_ELEMDATE\n",
      "IS_URBAN\n",
      "C01_CMT\n",
      "C01_SRC\n",
      "C01_URL\n",
      "C02_CMT\n",
      "C02_SRC\n",
      "C02_URL\n",
      "C03_CMT\n",
      "C03_SRC\n",
      "C03_URL\n",
      "C04_CMT\n",
      "C04_SRC\n",
      "C04_URL\n",
      "C05_CMT\n",
      "C05_SRC\n",
      "C05_URL\n",
      "C06_CMT\n",
      "C06_SRC\n",
      "C06_URL\n",
      "C07_CMT\n",
      "C07_SRC\n",
      "C07_URL\n",
      "S01_CMT\n",
      "S01_SRC\n",
      "S01_URL\n",
      "S02_CMT\n",
      "S02_SRC\n",
      "S02_URL\n",
      "S03_CMT\n",
      "S03_SRC\n",
      "S03_URL\n",
      "S04_CMT\n",
      "S04_SRC\n",
      "S04_URL\n",
      "S05_CMT\n",
      "S05_SRC\n",
      "S05_URL\n",
      "S06_CMT\n",
      "S06_SRC\n",
      "S06_URL\n",
      "S07_CMT\n",
      "S07_SRC\n",
      "S07_URL\n",
      "S08_CMT\n",
      "S08_SRC\n",
      "S08_URL\n",
      "S09_CMT\n",
      "S09_SRC\n",
      "S09_URL\n",
      "A1_CMT\n",
      "A1_SRC\n",
      "A1_URL\n",
      "A2_CMT\n",
      "A2_SRC\n",
      "A2_URL\n",
      "A3_CMT\n",
      "A3_SRC\n",
      "A3_URL\n",
      "A4_CMT\n",
      "A4_SRC\n",
      "A4_URL\n",
      "A5_CMT\n",
      "A5_SRC\n",
      "A5_URL\n",
      "EC1_CMT\n",
      "EC1_SRC\n",
      "EC1_URL\n",
      "EC2_CMT\n",
      "EC2_SRC\n",
      "EC2_URL\n",
      "ES1_CMT\n",
      "ES1_SRC\n",
      "ES1_URL\n",
      "ES2_CMT\n",
      "ES2_SRC\n",
      "ES2_URL\n",
      "ES3_CMT\n",
      "ES3_SRC\n",
      "ES3_URL\n",
      "ES4_CMT\n",
      "ES4_SRC\n",
      "ES4_URL\n",
      "SHAPE_Leng\n",
      "geometry\n"
     ]
    }
   ],
   "source": [
    "for field in lines_gdf.columns:\n",
    "    print(field)"
   ]
  },
  {
   "cell_type": "markdown",
   "metadata": {},
   "source": [
    "##### b) Identify specific columnar data to show in pop-up"
   ]
  },
  {
   "cell_type": "code",
   "execution_count": 10,
   "metadata": {},
   "outputs": [],
   "source": [
    "lines_info = {'REACH ID:':'REACH_ID'}"
   ]
  },
  {
   "cell_type": "markdown",
   "metadata": {},
   "source": [
    "### Process the shapefiles along with the selected columnar data to create the visualization map"
   ]
  },
  {
   "cell_type": "code",
   "execution_count": 11,
   "metadata": {},
   "outputs": [
    {
     "name": "stderr",
     "output_type": "stream",
     "text": [
      "Input notebook does not contain a cell with tag 'parameters'\n"
     ]
    },
    {
     "data": {
      "application/vnd.jupyter.widget-view+json": {
       "model_id": "8ba3e4e9b035496591f639e41d8d811f",
       "version_major": 2,
       "version_minor": 0
      },
      "text/plain": [
       "HBox(children=(IntProgress(value=0, max=19), HTML(value='')))"
      ]
     },
     "metadata": {},
     "output_type": "display_data"
    },
    {
     "name": "stdout",
     "output_type": "stream",
     "text": [
      "\n"
     ]
    }
   ],
   "source": [
    "nboutput = pm.execute_notebook(notebook_in, \n",
    "    noebook_out,\n",
    "    parameters ={'points':points,\n",
    "                 'points_info':points_info,\n",
    "                 'polys':polys,\n",
    "                 'polys_info':polys_info,\n",
    "                 'lines':lines,\n",
    "                 'lines_info':lines_info,\n",
    "                 'output_file':output_file,\n",
    "                 'crs':crs,\n",
    "                 'name':name \n",
    "                }\n",
    ")"
   ]
  }
 ],
 "metadata": {
  "kernelspec": {
   "display_name": "Python [conda env:geoprocess]",
   "language": "python",
   "name": "conda-env-geoprocess-py"
  },
  "language_info": {
   "codemirror_mode": {
    "name": "ipython",
    "version": 3
   },
   "file_extension": ".py",
   "mimetype": "text/x-python",
   "name": "python",
   "nbconvert_exporter": "python",
   "pygments_lexer": "ipython3",
   "version": "3.6.8"
  }
 },
 "nbformat": 4,
 "nbformat_minor": 2
}
