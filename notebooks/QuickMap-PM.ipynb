{
 "cells": [
  {
   "cell_type": "markdown",
   "metadata": {},
   "source": [
    "## QuickMap\n",
    "\n",
    "__Description__: Tool to create a quick visualization map. This map is used to visualize USGS gauges, HUCs, and stream flowlines for specific study domain.\n",
    "\n",
    "__Input__: Three shapefiles for USGS gauges, HUCs, and stream flowlines.\n",
    "\n",
    "__Output__: HTML file for the created map. Jupyter notebook created specifically for the desired study domain to regenerate and/or modify the map if needed. "
   ]
  },
  {
   "cell_type": "markdown",
   "metadata": {},
   "source": [
    "### Load libraries:"
   ]
  },
  {
   "cell_type": "code",
   "execution_count": 1,
   "metadata": {},
   "outputs": [],
   "source": [
    "import sys;sys.path.append('../html-maps')\n",
    "from mapfun import *\n",
    "from features import *\n",
    "import pathlib as pl\n",
    "import papermill as pm"
   ]
  },
  {
   "cell_type": "markdown",
   "metadata": {},
   "source": [
    "### Specify the location to save the outputs, idenfiy the shapefiles projection, and assign a name to the desired study domain:"
   ]
  },
  {
   "cell_type": "code",
   "execution_count": 2,
   "metadata": {},
   "outputs": [],
   "source": [
    "rootdir = pl.Path(r'..\\sample_data')\n",
    "crs = '+proj=aea +lat_1=20 +lat_2=60 +lat_0=40 +lon_0=-96 +x_0=0 +y_0=0 +datum=NAD83 +units=m +no_defs' \n",
    "name = 'New York'\n",
    "\n",
    "output_file = rootdir / '{}.html'.format(name)\n",
    "notebook_in = 'QuickMap.ipynb'\n",
    "noebook_out = rootdir / 'QuickMap_{}.ipynb'.format(name)     "
   ]
  },
  {
   "cell_type": "markdown",
   "metadata": {},
   "source": [
    "### For each shape added to the map, assign columnar data to show in pop-up"
   ]
  },
  {
   "cell_type": "markdown",
   "metadata": {},
   "source": [
    "#### 1) Gages:"
   ]
  },
  {
   "cell_type": "code",
   "execution_count": 4,
   "metadata": {},
   "outputs": [],
   "source": [
    "gages_info = {'Site No:':'Site_NO', 'Station:':'Station_NM', 'URL':'NWISWeb'}"
   ]
  },
  {
   "cell_type": "markdown",
   "metadata": {},
   "source": [
    "#### 2) HUCs:"
   ]
  },
  {
   "cell_type": "code",
   "execution_count": 5,
   "metadata": {},
   "outputs": [],
   "source": [
    "polys_info = {'HUC12:':'HUC12', 'Area (Sqmi):':'Sqmi', 'Domain:':'Domains', 'Label:':'Label', 'PM:':'PM'}"
   ]
  },
  {
   "cell_type": "markdown",
   "metadata": {},
   "source": [
    "#### 3) Stream flowlines: "
   ]
  },
  {
   "cell_type": "code",
   "execution_count": 6,
   "metadata": {},
   "outputs": [],
   "source": [
    "lines_info = {'REACH ID:':'REACH_ID'}"
   ]
  },
  {
   "cell_type": "markdown",
   "metadata": {},
   "source": [
    "### Process the shapefiles along with the selected columnar data to create the visualization map"
   ]
  },
  {
   "cell_type": "code",
   "execution_count": 7,
   "metadata": {},
   "outputs": [
    {
     "data": {
      "application/vnd.jupyter.widget-view+json": {
       "model_id": "60feae8e04e54cb8969afc8c4cd7435a",
       "version_major": 2,
       "version_minor": 0
      },
      "text/plain": [
       "HBox(children=(IntProgress(value=0, max=19), HTML(value='')))"
      ]
     },
     "metadata": {},
     "output_type": "display_data"
    },
    {
     "name": "stdout",
     "output_type": "stream",
     "text": [
      "\n"
     ]
    }
   ],
   "source": [
    "nboutput = pm.execute_notebook(notebook_in, \n",
    "    str(noebook_out),\n",
    "    parameters ={'points':str(rootdir / 'sample_gages.geojson'),\n",
    "                 'points_info':gages_info,\n",
    "                 'polys':str(rootdir / 'sample_polygons.geojson'),\n",
    "                 'polys_info':polys_info,\n",
    "                 'lines':str(rootdir / 'sample_lines.geojson'),\n",
    "                 'lines_info':lines_info,\n",
    "                 'output_file':str(output_file),\n",
    "                 'crs':crs,\n",
    "                 'name':name \n",
    "                }\n",
    ")"
   ]
  },
  {
   "cell_type": "code",
   "execution_count": null,
   "metadata": {},
   "outputs": [],
   "source": []
  }
 ],
 "metadata": {
  "kernelspec": {
   "display_name": "general",
   "language": "python",
   "name": "general"
  },
  "language_info": {
   "codemirror_mode": {
    "name": "ipython",
    "version": 3
   },
   "file_extension": ".py",
   "mimetype": "text/x-python",
   "name": "python",
   "nbconvert_exporter": "python",
   "pygments_lexer": "ipython3",
   "version": "3.6.8"
  }
 },
 "nbformat": 4,
 "nbformat_minor": 2
}
