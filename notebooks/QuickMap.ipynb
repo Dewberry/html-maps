{
 "cells": [
  {
   "cell_type": "raw",
   "metadata": {},
   "source": [
    "# PAPERMILL Parameters\n",
    "parameters ={'points':points,\n",
    "             'points_info':points_info,\n",
    "             'polys':polys,\n",
    "             'polys_info':polys_info,\n",
    "             'lines':lines,\n",
    "             'lines_info':lines_info,\n",
    "             'output_file':output_file,\n",
    "             'crs':crs,\n",
    "             'name':name \n",
    "            }"
   ]
  },
  {
   "cell_type": "markdown",
   "metadata": {},
   "source": [
    "# Quick Map"
   ]
  },
  {
   "cell_type": "code",
   "execution_count": null,
   "metadata": {},
   "outputs": [],
   "source": [
    "from IPython.display import IFrame\n",
    "from mapfun import *\n",
    "import pathlib as pl\n",
    "import geopandas as gpd\n",
    "#from importlib import reload "
   ]
  },
  {
   "cell_type": "markdown",
   "metadata": {},
   "source": [
    "### Prep polygon data"
   ]
  },
  {
   "cell_type": "code",
   "execution_count": null,
   "metadata": {},
   "outputs": [],
   "source": [
    "polys_gdf = gpd.read_file(polys)\n",
    "polys_gdf.crs=crs\n",
    "polys = quick_transform(polys_gdf, crs)"
   ]
  },
  {
   "cell_type": "markdown",
   "metadata": {},
   "source": [
    "### Prep polyline data"
   ]
  },
  {
   "cell_type": "code",
   "execution_count": null,
   "metadata": {},
   "outputs": [],
   "source": [
    "lines_gdf = gpd.read_file(lines)\n",
    "lines_gdf.crs=crs\n",
    "lines = quick_transform(lines_gdf, crs)"
   ]
  },
  {
   "cell_type": "markdown",
   "metadata": {},
   "source": [
    "### Prep point data"
   ]
  },
  {
   "cell_type": "code",
   "execution_count": null,
   "metadata": {},
   "outputs": [],
   "source": [
    "points_gdf = gpd.read_file(points)\n",
    "points_gdf.crs=crs\n",
    "points = quick_transform(points_gdf, crs)"
   ]
  },
  {
   "cell_type": "markdown",
   "metadata": {},
   "source": [
    "### Assign Map Center"
   ]
  },
  {
   "cell_type": "code",
   "execution_count": null,
   "metadata": {},
   "outputs": [],
   "source": [
    "xcoord, ycoord = get_centroid(points)\n",
    "m = interactive_map(ycoord, xcoord, zoom = 11)"
   ]
  },
  {
   "cell_type": "markdown",
   "metadata": {},
   "source": [
    "### Add Geodata to Map"
   ]
  },
  {
   "cell_type": "code",
   "execution_count": null,
   "metadata": {},
   "outputs": [],
   "source": [
    "m = add_poly_popups(polys, m, polys_info, name)\n",
    "m = add_line_popups(lines, m, lines_info, name)\n",
    "m = add_point_popups(points, m, points_info, name)"
   ]
  },
  {
   "cell_type": "markdown",
   "metadata": {},
   "source": [
    "### Make popup for points"
   ]
  },
  {
   "cell_type": "code",
   "execution_count": null,
   "metadata": {},
   "outputs": [],
   "source": [
    "m = add_tiles(m)\n",
    "m = add_measure(m)"
   ]
  },
  {
   "cell_type": "markdown",
   "metadata": {},
   "source": [
    "### Save to html"
   ]
  },
  {
   "cell_type": "code",
   "execution_count": null,
   "metadata": {},
   "outputs": [],
   "source": [
    "m.save(outfile=output_file)  \n",
    "#IFrame('{}.html'.format(name), width=800, height=650)"
   ]
  },
  {
   "cell_type": "markdown",
   "metadata": {},
   "source": [
    "# END"
   ]
  }
 ],
 "metadata": {
  "kernelspec": {
   "display_name": "base",
   "language": "python",
   "name": "base"
  },
  "language_info": {
   "codemirror_mode": {
    "name": "ipython",
    "version": 3
   },
   "file_extension": ".py",
   "mimetype": "text/x-python",
   "name": "python",
   "nbconvert_exporter": "python",
   "pygments_lexer": "ipython3",
   "version": "3.7.1"
  }
 },
 "nbformat": 4,
 "nbformat_minor": 2
}
