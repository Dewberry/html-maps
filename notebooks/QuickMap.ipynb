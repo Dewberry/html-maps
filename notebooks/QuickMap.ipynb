{
 "cells": [
  {
   "cell_type": "raw",
   "metadata": {},
   "source": [
    "# PAPERMILL Parameters\n",
    "parameters ={'points':points,\n",
    "             'points_info':points_info,\n",
    "             'polys':polys,\n",
    "             'polys_info':polys_info,\n",
    "             'lines':lines,\n",
    "             'lines_info':lines_info,\n",
    "             'output_file':output_file,\n",
    "             'crs':crs,\n",
    "             'name':name \n",
    "            }"
   ]
  },
  {
   "cell_type": "markdown",
   "metadata": {},
   "source": [
    "# Quick Map"
   ]
  },
  {
   "cell_type": "code",
   "execution_count": null,
   "metadata": {},
   "outputs": [],
   "source": [
    "import sys;sys.path.append('../html-maps')\n",
    "from mapfun import *\n",
    "from features import *\n",
    "import pathlib as pl"
   ]
  },
  {
   "cell_type": "markdown",
   "metadata": {},
   "source": [
    "### Prep polygon data"
   ]
  },
  {
   "cell_type": "code",
   "execution_count": null,
   "metadata": {},
   "outputs": [],
   "source": [
    "polys_gdf = gpd.read_file(polys)\n",
    "polys_gdf.crs=crs\n",
    "polys = quick_transform(polys_gdf, crs)\n",
    "title = f'<caption style=\"font-size:14pt;text-align:center\"><caption>{name}</caption><TH>'\n",
    "header= ['Company','Dewberry']\n",
    "params = column_styles(2,headers=header,size='60%',col_font='font-size: 10pt')\n",
    "descriptions = table_description(polys, params, polys_info, '<TH style=\"font-size:10pt;text-align:center\">',\n",
    "                                 title,change_header=True)"
   ]
  },
  {
   "cell_type": "markdown",
   "metadata": {},
   "source": [
    "### Prep polyline data"
   ]
  },
  {
   "cell_type": "code",
   "execution_count": null,
   "metadata": {},
   "outputs": [],
   "source": [
    "lines_gdf = gpd.read_file(lines)\n",
    "lines_gdf.crs=crs\n",
    "lines = quick_transform(lines_gdf, crs)\n",
    "header= ['Company','Dewberry']\n",
    "title = ''\n",
    "params = column_styles(2,headers=header,col_font='font-size: 10pt')\n",
    "line_descr = table_description(lines, params,lines_info, '<TH style=\"font-size:10pt;text-align:center\">',\n",
    "                                 title,change_header=True)"
   ]
  },
  {
   "cell_type": "markdown",
   "metadata": {},
   "source": [
    "### Prep point data"
   ]
  },
  {
   "cell_type": "code",
   "execution_count": null,
   "metadata": {},
   "outputs": [],
   "source": [
    "points_gdf = gpd.read_file(points)\n",
    "points_gdf.crs=crs\n",
    "points = quick_transform(points_gdf, crs)\n",
    "header= ['Company','Dewberry']\n",
    "title = ''\n",
    "params = column_styles(2,headers=header,size='55%',col_font='font-size: 10pt')\n",
    "points_descr = table_description(points, params, points_info, '<TH style=\"font-size:10pt;text-align:center\">',\n",
    "                                 title,change_header=True)"
   ]
  },
  {
   "cell_type": "markdown",
   "metadata": {},
   "source": [
    "### Assign Map Center"
   ]
  },
  {
   "cell_type": "code",
   "execution_count": null,
   "metadata": {},
   "outputs": [],
   "source": [
    "xcoord, ycoord = get_centroid(points)\n",
    "m = mapfun(ycoord, xcoord, zoom = 11)"
   ]
  },
  {
   "cell_type": "markdown",
   "metadata": {},
   "source": [
    "### Add Geodata to Map"
   ]
  },
  {
   "cell_type": "code",
   "execution_count": null,
   "metadata": {},
   "outputs": [],
   "source": [
    "m.add_polygon(polys, descriptions, polygons['Label_1'],add_table=True)\n",
    "m.add_lines(lines, line_descr, lines['REACH_ID'],add_table=True)\n",
    "m.add_point(points, points_descr, points['Gage_ID'],add_table=True)"
   ]
  },
  {
   "cell_type": "markdown",
   "metadata": {},
   "source": [
    "### Make popup for points"
   ]
  },
  {
   "cell_type": "code",
   "execution_count": null,
   "metadata": {},
   "outputs": [],
   "source": [
    "m.add_tiles(tile_type='World_Light_Gray_Base',services='/Canvas')\n",
    "m.add_extra()"
   ]
  },
  {
   "cell_type": "markdown",
   "metadata": {},
   "source": [
    "### Save to html"
   ]
  },
  {
   "cell_type": "code",
   "execution_count": null,
   "metadata": {},
   "outputs": [],
   "source": [
    "m.map.save(outfile=output_file)  \n",
    "#IFrame('{}.html'.format(name), width=800, height=650)"
   ]
  },
  {
   "cell_type": "markdown",
   "metadata": {},
   "source": [
    "# END"
   ]
  }
 ],
 "metadata": {
  "kernelspec": {
   "display_name": "base",
   "language": "python",
   "name": "base"
  },
  "language_info": {
   "codemirror_mode": {
    "name": "ipython",
    "version": 3
   },
   "file_extension": ".py",
   "mimetype": "text/x-python",
   "name": "python",
   "nbconvert_exporter": "python",
   "pygments_lexer": "ipython3",
   "version": "3.7.1"
  }
 },
 "nbformat": 4,
 "nbformat_minor": 2
}
