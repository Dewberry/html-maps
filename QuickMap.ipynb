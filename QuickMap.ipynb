{
 "cells": [
  {
   "cell_type": "markdown",
   "metadata": {},
   "source": [
    "# Quick Map"
   ]
  },
  {
   "cell_type": "code",
   "execution_count": 1,
   "metadata": {},
   "outputs": [],
   "source": [
    "from importlib import reload\n",
    "import pathlib as pl\n",
    "import geopandas as gpd\n",
    "from IPython.display import IFrame  "
   ]
  },
  {
   "cell_type": "code",
   "execution_count": 2,
   "metadata": {},
   "outputs": [],
   "source": [
    "import snippets\n",
    "reload(snippets)\n",
    "from snippets import *"
   ]
  },
  {
   "cell_type": "markdown",
   "metadata": {},
   "source": [
    "### Read in data, projections, etc."
   ]
  },
  {
   "cell_type": "code",
   "execution_count": 3,
   "metadata": {},
   "outputs": [],
   "source": [
    "rootdir = pl.Path(r'Y:\\CCSI\\TECH\\FEMA\\2019_PFRA\\DATA\\NJ\\Spatialfiles\\Scope\\html_map')\n",
    "crs = '+proj=aea +lat_1=20 +lat_2=60 +lat_0=40 +lon_0=-96 +x_0=0 +y_0=0 +datum=NAD83 +units=m +no_defs' "
   ]
  },
  {
   "cell_type": "code",
   "execution_count": 4,
   "metadata": {},
   "outputs": [],
   "source": [
    "gages = gpd.read_file(str(rootdir/'gages.geojson'))\n",
    "gages = quick_transform(gages, crs)\n",
    "\n",
    "rivers = gpd.read_file(str(rootdir/'rivers.geojson'))\n",
    "rivers = quick_transform(rivers, crs)\n",
    "\n",
    "huc12s = gpd.read_file(str(rootdir/'huc12s.geojson'))\n",
    "huc12s = quick_transform(huc12s, crs)"
   ]
  },
  {
   "cell_type": "markdown",
   "metadata": {},
   "source": [
    "### Assign Map Center"
   ]
  },
  {
   "cell_type": "code",
   "execution_count": 5,
   "metadata": {},
   "outputs": [],
   "source": [
    "xcoord, ycoord = get_centroid(gages)\n",
    "m = interactive_map(ycoord, xcoord)"
   ]
  },
  {
   "cell_type": "markdown",
   "metadata": {},
   "source": [
    "### For each shape added to the map, assign columnar data to show in pop-up"
   ]
  },
  {
   "cell_type": "code",
   "execution_count": 6,
   "metadata": {},
   "outputs": [
    {
     "data": {
      "text/plain": [
       "Index(['OBJECTID', 'Gage_ID', 'Agency_CD', 'Site_NO', 'Station_NM',\n",
       "       'Site_TP_CD', 'ReachCode', 'Stream_ID', 'State', 'State_FIPS', 'Region',\n",
       "       'HUC8', 'Lat_NWIS', 'Long_NWIS', 'Lat_1M', 'Long_1M', 'Source',\n",
       "       'Review', 'Measure', 'NWISWeb', 'geometry'],\n",
       "      dtype='object')"
      ]
     },
     "execution_count": 6,
     "metadata": {},
     "output_type": "execute_result"
    }
   ],
   "source": [
    "gages.columns"
   ]
  },
  {
   "cell_type": "code",
   "execution_count": 7,
   "metadata": {},
   "outputs": [],
   "source": [
    "gages_info = {'Gage ID':'Gage_ID', 'Station':'Station_NM', 'URL':'NWISWeb'}\n",
    "m = add_point_popups(gages, m, gages_info)"
   ]
  },
  {
   "cell_type": "markdown",
   "metadata": {},
   "source": [
    "### Make popup for lines"
   ]
  },
  {
   "cell_type": "code",
   "execution_count": 8,
   "metadata": {},
   "outputs": [
    {
     "data": {
      "text/plain": [
       "Index(['OBJECTID', 'REACH_ID', 'UP_NODE', 'DN_NODE', 'ROUTE_METH',\n",
       "       'SOURCE_CIT', 'SHAPE_Length', 'geometry'],\n",
       "      dtype='object')"
      ]
     },
     "execution_count": 8,
     "metadata": {},
     "output_type": "execute_result"
    }
   ],
   "source": [
    "rivers.columns"
   ]
  },
  {
   "cell_type": "code",
   "execution_count": 9,
   "metadata": {},
   "outputs": [],
   "source": [
    "rivers_info = {'REACH ID':'REACH_ID'}\n",
    "m = add_line_popups(rivers, m, rivers_info)"
   ]
  },
  {
   "cell_type": "markdown",
   "metadata": {},
   "source": [
    "### Make popup for polygons"
   ]
  },
  {
   "cell_type": "code",
   "execution_count": 10,
   "metadata": {},
   "outputs": [
    {
     "data": {
      "text/plain": [
       "Index(['OBJECTID', 'HUC12', 'NAME_1', 'PTS', 'Company', 'Sqmi', 'Domains',\n",
       "       'Group_D', 'OBJECTID_1__', 'Label', 'Label_1', 'Pluvial', 'Fluvial',\n",
       "       'PM', 'Shape_Length', 'Shape_Area', 'geometry'],\n",
       "      dtype='object')"
      ]
     },
     "execution_count": 10,
     "metadata": {},
     "output_type": "execute_result"
    }
   ],
   "source": [
    "huc12s.columns"
   ]
  },
  {
   "cell_type": "code",
   "execution_count": 11,
   "metadata": {},
   "outputs": [],
   "source": [
    "def add_poly_popups(gdf0, folmap, info):\n",
    "    sID='Hi'\n",
    "    for idx in  gdf0.index:\n",
    "        html_string = f\"<h4>{sID}</h4>\"\n",
    "        \n",
    "        for k, v in info.items():\n",
    "            if k == 'URL':\n",
    "                add_data = f'<a href={gdf0.loc[idx][v]} target=\"_blank\" >USGS Webpage   </a>'\n",
    "                html_string +=add_data\n",
    "            else:\n",
    "                add_data = f\"<p>{k} {gdf0.loc[idx][v]}</p>\"\n",
    "                html_string +=add_data\n",
    "        iframe=branca.element.IFrame(html=html_string, width=200, height=250)    \n",
    "        popup = folium.Popup(iframe)\n",
    "        #for poly in gdf0.geometry[idx]:\n",
    "        #    x = poly.exterior.coords.xy[0]\n",
    "        #    y = poly.exterior.coords.xy[1]\n",
    "        #    line_points = zip(y,x)\n",
    "        #    print(list(line_points))\n",
    "        style_function = lambda x :{'fillColor': '#a6a6a6','color': '#a6a6a6','opacity':0.1,'fillOpacity': 0.01}\n",
    "        geojson = folium.GeoJson(gdf0,style_function=style_function)\n",
    "        geojson.add_child(popup)\n",
    "        geojson.add_to(folmap)\n",
    "    return folmap"
   ]
  },
  {
   "cell_type": "code",
   "execution_count": 12,
   "metadata": {},
   "outputs": [],
   "source": [
    "huc12s_info = {'HUC12':'HUC12', 'Domain':'Domains', 'Label':'Label', 'PM':'PM'}\n",
    "m = add_poly_popups(huc12s, m, huc12s_info)"
   ]
  },
  {
   "cell_type": "code",
   "execution_count": 13,
   "metadata": {},
   "outputs": [],
   "source": [
    "m = add_tiles(m)"
   ]
  },
  {
   "cell_type": "markdown",
   "metadata": {},
   "source": [
    "### save to html"
   ]
  },
  {
   "cell_type": "code",
   "execution_count": 14,
   "metadata": {},
   "outputs": [
    {
     "data": {
      "text/html": [
       "\n",
       "        <iframe\n",
       "            width=\"800\"\n",
       "            height=\"650\"\n",
       "            src=\"map.html\"\n",
       "            frameborder=\"0\"\n",
       "            allowfullscreen\n",
       "        ></iframe>\n",
       "        "
      ],
      "text/plain": [
       "<IPython.lib.display.IFrame at 0x1e24aea92e8>"
      ]
     },
     "execution_count": 14,
     "metadata": {},
     "output_type": "execute_result"
    }
   ],
   "source": [
    "m.save(outfile='map.html')  \n",
    "IFrame('map.html', width=800, height=650)"
   ]
  },
  {
   "cell_type": "markdown",
   "metadata": {},
   "source": [
    "# END"
   ]
  }
 ],
 "metadata": {
  "kernelspec": {
   "display_name": "Python [conda env:general]",
   "language": "python",
   "name": "conda-env-general-py"
  },
  "language_info": {
   "codemirror_mode": {
    "name": "ipython",
    "version": 3
   },
   "file_extension": ".py",
   "mimetype": "text/x-python",
   "name": "python",
   "nbconvert_exporter": "python",
   "pygments_lexer": "ipython3",
   "version": "3.6.8"
  }
 },
 "nbformat": 4,
 "nbformat_minor": 2
}
